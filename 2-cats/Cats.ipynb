{
 "cells": [
  {
   "cell_type": "markdown",
   "id": "51e6d77d-be1c-4547-a803-a0401a230550",
   "metadata": {},
   "source": [
    "## Initialize the project with the settings you'd like"
   ]
  },
  {
   "cell_type": "code",
   "execution_count": 5,
   "id": "42053724-ed6e-4b0a-b8b7-6b1e1e9b3377",
   "metadata": {},
   "outputs": [],
   "source": [
    "!python init.py"
   ]
  },
  {
   "cell_type": "code",
   "execution_count": 6,
   "id": "18ad3b34-745d-4f88-96c2-a9cb7ebc906b",
   "metadata": {},
   "outputs": [
    {
     "name": "stdout",
     "output_type": "stream",
     "text": [
      "Using environment configuration: StandardEnvironment\n",
      "Fetching status: 100%|██████████████████████████| 1/1 [00:00<00:00, 1199.06it/s]\n",
      "Fetching labels: 100%|█████████████████████████| 1/1 [00:00<00:00, 18157.16it/s]\n",
      "\n",
      "Overview: 1 jobs/aggregates, 1 jobs/aggregates with eligible operations.\n",
      "\n",
      "label\n",
      "-------\n",
      "\n",
      "\n",
      "operation/group      number of eligible jobs  submission status\n",
      "-----------------  -------------------------  -------------------\n",
      "convert                                    1  [U]: 1\n",
      "\n",
      "[U]:unknown [R]:registered [I]:inactive [S]:submitted [H]:held [Q]:queued [A]:active [E]:error [GR]:group_registered [GI]:group_inactive [GS]:group_submitted [GH]:group_held [GQ]:group_queued [GA]:group_active [GE]:group_error\n",
      "\n",
      "\n"
     ]
    }
   ],
   "source": [
    "!python project.py status"
   ]
  },
  {
   "cell_type": "markdown",
   "id": "560df2a8-9a3c-4126-a0ee-71288f2c969e",
   "metadata": {},
   "source": [
    "## Run the conversions!"
   ]
  },
  {
   "cell_type": "code",
   "execution_count": 7,
   "id": "86daf78a-3554-42ab-bd48-feec67534f75",
   "metadata": {},
   "outputs": [
    {
     "name": "stdout",
     "output_type": "stream",
     "text": [
      "Using environment configuration: StandardEnvironment\n",
      "ffmpeg version 5.0.1 Copyright (c) 2000-2022 the FFmpeg developers\n",
      "  built with Apple clang version 12.0.0 (clang-1200.0.32.29)\n",
      "  configuration: --prefix=/usr/local/Cellar/ffmpeg/5.0.1 --enable-shared --enable-pthreads --enable-version3 --cc=clang --host-cflags= --host-ldflags= --enable-ffplay --enable-gnutls --enable-gpl --enable-libaom --enable-libbluray --enable-libdav1d --enable-libmp3lame --enable-libopus --enable-librav1e --enable-librist --enable-librubberband --enable-libsnappy --enable-libsrt --enable-libtesseract --enable-libtheora --enable-libvidstab --enable-libvmaf --enable-libvorbis --enable-libvpx --enable-libwebp --enable-libx264 --enable-libx265 --enable-libxml2 --enable-libxvid --enable-lzma --enable-libfontconfig --enable-libfreetype --enable-frei0r --enable-libass --enable-libopencore-amrnb --enable-libopencore-amrwb --enable-libopenjpeg --enable-libspeex --enable-libsoxr --enable-libzmq --enable-libzimg --disable-libjack --disable-indev=jack --enable-videotoolbox\n",
      "  libavutil      57. 17.100 / 57. 17.100\n",
      "  libavcodec     59. 18.100 / 59. 18.100\n",
      "  libavformat    59. 16.100 / 59. 16.100\n",
      "  libavdevice    59.  4.100 / 59.  4.100\n",
      "  libavfilter     8. 24.100 /  8. 24.100\n",
      "  libswscale      6.  4.100 /  6.  4.100\n",
      "  libswresample   4.  3.100 /  4.  3.100\n",
      "  libpostproc    56.  3.100 / 56.  3.100\n",
      "Input #0, mov,mp4,m4a,3gp,3g2,mj2, from 'test.mov':\n",
      "  Metadata:\n",
      "    major_brand     : qt  \n",
      "    minor_version   : 0\n",
      "    compatible_brands: qt  \n",
      "    creation_time   : 2022-07-21T12:45:04.000000Z\n",
      "    com.apple.quicktime.make: Apple\n",
      "    com.apple.quicktime.model: MacBookPro16,1\n",
      "    com.apple.quicktime.software: Mac OS X 10.15.7 (19H1922)\n",
      "    com.apple.quicktime.creationdate: 2022-07-21T08:45:03-0400\n",
      "  Duration: 00:00:01.78, start: 0.000000, bitrate: 277 kb/s\n",
      "  Stream #0:0[0x1](und): Video: h264 (Main) (avc1 / 0x31637661), yuv420p(tv, bt709, progressive), 392x264 [SAR 1:1 DAR 49:33], 206 kb/s, 58.88 fps, 60 tbr, 6k tbn (default)\n",
      "    Metadata:\n",
      "      creation_time   : 2022-07-21T12:45:04.000000Z\n",
      "      handler_name    : Core Media Video\n",
      "      vendor_id       : [0][0][0][0]\n",
      "      encoder         : H.264\n",
      "Stream mapping:\n",
      "  Stream #0:0 -> #0:0 (h264 (native) -> gif (native))\n",
      "Press [q] to stop, [?] for help\n",
      "Output #0, gif, to '/Users/Corwin/PhD/Glotzer/presentations/fomms/workshop/signac-workshop/signac-workshop/2-cats/workspace/87d4de764a44bc3851c81c5a3d56562a/cat.gif':\n",
      "  Metadata:\n",
      "    major_brand     : qt  \n",
      "    minor_version   : 0\n",
      "    compatible_brands: qt  \n",
      "    com.apple.quicktime.creationdate: 2022-07-21T08:45:03-0400\n",
      "    com.apple.quicktime.make: Apple\n",
      "    com.apple.quicktime.model: MacBookPro16,1\n",
      "    com.apple.quicktime.software: Mac OS X 10.15.7 (19H1922)\n",
      "    encoder         : Lavf59.16.100\n",
      "  Stream #0:0(und): Video: gif, bgr8(pc, gbr/bt709/bt709, progressive), 100x67 [SAR 3283:3300 DAR 49:33], q=2-31, 200 kb/s, 10 fps, 100 tbn (default)\n",
      "    Metadata:\n",
      "      creation_time   : 2022-07-21T12:45:04.000000Z\n",
      "      handler_name    : Core Media Video\n",
      "      vendor_id       : [0][0][0][0]\n",
      "      encoder         : Lavc59.18.100 gif\n",
      "frame=   18 fps=0.0 q=-0.0 Lsize=       3kB time=00:00:01.71 bitrate=  13.4kbits/s speed=74.9x    \n",
      "video:3kB audio:0kB subtitle:0kB other streams:0kB global headers:0kB muxing overhead: 0.704970%\n",
      "WARNING:flow.project:Operation 'convert' has no postconditions!\n"
     ]
    }
   ],
   "source": [
    "!python project.py run"
   ]
  },
  {
   "cell_type": "markdown",
   "id": "7b41375c-744e-41e5-aa05-32d37b8252aa",
   "metadata": {},
   "source": [
    "## Use signac view to generate a human-readable representation on the file system"
   ]
  },
  {
   "cell_type": "code",
   "execution_count": 9,
   "id": "2e4654b5-b52c-4cd2-b845-e18e683091f5",
   "metadata": {},
   "outputs": [],
   "source": [
    "!signac view"
   ]
  },
  {
   "cell_type": "code",
   "execution_count": null,
   "id": "8422913e-0855-4617-baba-8b472d6c76c3",
   "metadata": {},
   "outputs": [],
   "source": []
  }
 ],
 "metadata": {
  "kernelspec": {
   "display_name": "Python 3 (ipykernel)",
   "language": "python",
   "name": "python3"
  },
  "language_info": {
   "codemirror_mode": {
    "name": "ipython",
    "version": 3
   },
   "file_extension": ".py",
   "mimetype": "text/x-python",
   "name": "python",
   "nbconvert_exporter": "python",
   "pygments_lexer": "ipython3",
   "version": "3.10.4"
  }
 },
 "nbformat": 4,
 "nbformat_minor": 5
}
