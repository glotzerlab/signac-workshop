{
 "cells": [
  {
   "cell_type": "code",
   "execution_count": null,
   "id": "726b69cb-5f71-4907-a197-accc58234890",
   "metadata": {},
   "outputs": [],
   "source": [
    "import signac\n",
    "from IPython.display import Image"
   ]
  },
  {
   "cell_type": "markdown",
   "id": "51e6d77d-be1c-4547-a803-a0401a230550",
   "metadata": {
    "tags": []
   },
   "source": [
    "## Initialize the project with ffmpeg gif settings"
   ]
  },
  {
   "cell_type": "code",
   "execution_count": null,
   "id": "c43531c6-31ca-43e9-a1b7-0497895ad2d3",
   "metadata": {},
   "outputs": [],
   "source": [
    "project = signac.init_project(\"cats\")\n",
    "\n",
    "# initialize certain jobs\n",
    "for input_file in ['cat1.mp4', 'cat2.mp4','cat3.3gp']:\n",
    "    job = project.open_job({\"input_file\": input_file,\n",
    "                            \"fps\": 10,\n",
    "                            \"scale\": \"100:-1\"})\n",
    "    job.init()"
   ]
  },
  {
   "cell_type": "markdown",
   "id": "f9f39ceb-2fe0-4c40-a38f-ad5427c4f0ac",
   "metadata": {},
   "source": [
    "Initialize these and more"
   ]
  },
  {
   "cell_type": "code",
   "execution_count": null,
   "id": "42053724-ed6e-4b0a-b8b7-6b1e1e9b3377",
   "metadata": {},
   "outputs": [],
   "source": [
    "!python init.py"
   ]
  },
  {
   "cell_type": "markdown",
   "id": "fa5e49cd-f932-46d9-8c93-851447aa16b2",
   "metadata": {},
   "source": [
    "Inspect the file system to follow along with what's going on"
   ]
  },
  {
   "cell_type": "markdown",
   "id": "e4087ee1-eb74-4518-83e7-60e7c5fb49fd",
   "metadata": {},
   "source": [
    "See our jobs ready to run"
   ]
  },
  {
   "cell_type": "code",
   "execution_count": null,
   "id": "18ad3b34-745d-4f88-96c2-a9cb7ebc906b",
   "metadata": {},
   "outputs": [],
   "source": [
    "!python project.py status"
   ]
  },
  {
   "cell_type": "markdown",
   "id": "560df2a8-9a3c-4126-a0ee-71288f2c969e",
   "metadata": {},
   "source": [
    "## Run the conversions!"
   ]
  },
  {
   "cell_type": "markdown",
   "id": "6c5a7de4-64af-49ab-9881-35b26f0a4b9c",
   "metadata": {},
   "source": [
    "The verbose flag gives a record of which operations are running"
   ]
  },
  {
   "cell_type": "code",
   "execution_count": null,
   "id": "86daf78a-3554-42ab-bd48-feec67534f75",
   "metadata": {},
   "outputs": [],
   "source": [
    "!python project.py run --verbose"
   ]
  },
  {
   "cell_type": "code",
   "execution_count": null,
   "id": "8ed024bf-410e-4304-941e-b131b76ce3bf",
   "metadata": {},
   "outputs": [],
   "source": [
    "!python project.py status"
   ]
  },
  {
   "cell_type": "markdown",
   "id": "7b41375c-744e-41e5-aa05-32d37b8252aa",
   "metadata": {},
   "source": [
    "## Use signac view to generate a human-readable representation on the file system"
   ]
  },
  {
   "cell_type": "code",
   "execution_count": null,
   "id": "2e4654b5-b52c-4cd2-b845-e18e683091f5",
   "metadata": {},
   "outputs": [],
   "source": [
    "!signac view"
   ]
  },
  {
   "cell_type": "code",
   "execution_count": null,
   "id": "8422913e-0855-4617-baba-8b472d6c76c3",
   "metadata": {},
   "outputs": [],
   "source": []
  }
 ],
 "metadata": {
  "kernelspec": {
   "display_name": "Python 3 (ipykernel)",
   "language": "python",
   "name": "python3"
  },
  "language_info": {
   "codemirror_mode": {
    "name": "ipython",
    "version": 3
   },
   "file_extension": ".py",
   "mimetype": "text/x-python",
   "name": "python",
   "nbconvert_exporter": "python",
   "pygments_lexer": "ipython3",
   "version": "3.10.4"
  }
 },
 "nbformat": 4,
 "nbformat_minor": 5
}
