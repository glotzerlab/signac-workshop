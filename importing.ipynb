{
 "cells": [
  {
   "cell_type": "markdown",
   "id": "c6d1348b-b5d2-4dbf-807b-f4e1158bab87",
   "metadata": {},
   "source": [
    "# Converting project to use signac"
   ]
  },
  {
   "cell_type": "markdown",
   "id": "002e1ac1-839e-4871-9975-6014e78f274c",
   "metadata": {},
   "source": [
    "First, create a signac project to import into"
   ]
  },
  {
   "cell_type": "code",
   "execution_count": 35,
   "id": "83573809-e7b0-40fb-b6d4-54339dda5edd",
   "metadata": {},
   "outputs": [
    {
     "name": "stdout",
     "output_type": "stream",
     "text": [
      "Initialized project.\n"
     ]
    }
   ],
   "source": [
    "!signac init"
   ]
  },
  {
   "cell_type": "markdown",
   "id": "7117ebb8-4c4c-4c3c-b895-612f8f747c51",
   "metadata": {},
   "source": [
    "We will use the `signac import` command"
   ]
  },
  {
   "cell_type": "code",
   "execution_count": 4,
   "id": "c30346d9-3e52-41fd-86e4-7d033e2a3a10",
   "metadata": {},
   "outputs": [
    {
     "name": "stdout",
     "output_type": "stream",
     "text": [
      "usage: signac import [-h] [--move] [--sync] [--sync-interactive]\n",
      "                     [origin] [schema_path]\n",
      "\n",
      "Import an existing dataset into this project. Optionally provide a file path\n",
      "based schema to specify the state point metadata. Providing a path based\n",
      "schema is only necessary if the data set was not previously exported from a\n",
      "signac project.\n",
      "\n",
      "positional arguments:\n",
      "  origin              The origin to import from. May be a path to a directory,\n",
      "                      a zipfile, or a tarball. Defaults to the current working\n",
      "                      directory.\n",
      "  schema_path         Specify an optional import path, such as\n",
      "                      'foo/{foo:int}'. Possible type definitions include bool,\n",
      "                      int, float, and str. The type is assumed to be 'str' if\n",
      "                      no type is specified.\n",
      "\n",
      "options:\n",
      "  -h, --help          show this help message and exit\n",
      "  --move              Move the data upon import instead of copying. Can only\n",
      "                      be used when importing from a directory.\n",
      "  --sync              Attempt recursive synchronization with default\n",
      "                      arguments.\n",
      "  --sync-interactive  Synchronize the project with the origin data space\n",
      "                      interactively.\n"
     ]
    }
   ],
   "source": [
    "!signac import --help"
   ]
  },
  {
   "cell_type": "markdown",
   "id": "e7380805-b34a-48df-957f-3d3885739942",
   "metadata": {},
   "source": [
    "What is the schema of the directory layout?"
   ]
  },
  {
   "cell_type": "markdown",
   "id": "0ac2989c-d010-419c-8d07-48ca1662fadc",
   "metadata": {},
   "source": [
    "Let's import this project into signac by writing the appropriate schema_path for the `import` command"
   ]
  },
  {
   "cell_type": "code",
   "execution_count": 36,
   "id": "dfa16eb1-42ba-47c1-b0a8-aedf37cb0fc4",
   "metadata": {},
   "outputs": [
    {
     "name": "stdout",
     "output_type": "stream",
     "text": [
      "Prepare data space for import...\n",
      "Importing: 100%|███████████████████████████████| 25/25 [00:00<00:00, 310.29it/s]\n",
      "Imported 25 job(s).\n"
     ]
    }
   ],
   "source": [
    "!signac import to_import 'mean/{mean:int}/standard_deviation/{standard_deviation:float}/replica_{replica:int}_seed_{seed:int}'\n"
   ]
  },
  {
   "cell_type": "markdown",
   "id": "1ca9839f-fd6e-404d-a587-8f82716c3ede",
   "metadata": {},
   "source": [
    "## Converting code to use signac\n",
    "- Get parameters from signac state point (job.sp)\n",
    "- Replace cases of os.path.join(path, ...) with job.fn(...)\n",
    "- "
   ]
  },
  {
   "cell_type": "code",
   "execution_count": 16,
   "id": "c11fb958-43f3-477c-ad07-9c7912e39f88",
   "metadata": {},
   "outputs": [],
   "source": [
    "import signac"
   ]
  },
  {
   "cell_type": "markdown",
   "id": "c52dc3f2-3f82-43e0-ae75-4ef7eca5259d",
   "metadata": {},
   "source": [
    "Find a signac_statepoint.json file and confirm that the import was correct."
   ]
  },
  {
   "cell_type": "code",
   "execution_count": 37,
   "id": "3ecb486f-05e0-4cb5-a4ad-1502f7d69101",
   "metadata": {},
   "outputs": [],
   "source": [
    "project = signac.get_project()"
   ]
  },
  {
   "cell_type": "markdown",
   "id": "6ebd9010-54cb-4771-b36b-1f0859b92371",
   "metadata": {},
   "source": [
    "# Finish evaluating the workflow in signac-flow"
   ]
  },
  {
   "cell_type": "markdown",
   "id": "c5764360-2acd-49cc-a3f6-cb7d56b299d8",
   "metadata": {},
   "source": [
    "Check status of the project.\n",
    "\n",
    "- Note that 20/25 jobs have satisfied the `simulated` label\n",
    "    - Those 5 eligible `simulate` operations show up in the list\n",
    "- \n"
   ]
  },
  {
   "cell_type": "code",
   "execution_count": null,
   "id": "246c379d-cd62-48fe-83f9-c9ee016c23e4",
   "metadata": {},
   "outputs": [],
   "source": []
  },
  {
   "cell_type": "code",
   "execution_count": 44,
   "id": "2f7052a4-59b9-43d0-a97f-c6e044a110c1",
   "metadata": {},
   "outputs": [
    {
     "name": "stdout",
     "output_type": "stream",
     "text": [
      "Using environment configuration: StandardEnvironment\n",
      "Fetching status: 100%|█████████████████████████| 80/80 [00:00<00:00, 595.36it/s]\n",
      "Fetching labels: 100%|████████████████████████| 25/25 [00:00<00:00, 2191.47it/s]\n",
      "\n",
      "Overview: 30 jobs/aggregates, 9 jobs/aggregates with eligible operations.\n",
      "\n",
      "label      ratio\n",
      "---------  ---------------------------------------------------------\n",
      "simulated  |██████████████████████████████▍         | 19/25 (76.00%)\n",
      "\n",
      "operation/group                      number of eligible jobs  submission status\n",
      "---------------------------------  -------------------------  -------------------\n",
      "simulate                                                   6  [U]: 25\n",
      "compute_mean_squared_displacement                          3  [U]: 5\n",
      "\n",
      "[U]:unknown [R]:registered [I]:inactive [S]:submitted [H]:held [Q]:queued [A]:active [E]:error [GR]:group_registered [GI]:group_inactive [GS]:group_submitted [GH]:group_held [GQ]:group_queued [GA]:group_active [GE]:group_error\n",
      "\n",
      "\n"
     ]
    }
   ],
   "source": [
    "!python project-1.py status"
   ]
  },
  {
   "cell_type": "code",
   "execution_count": 39,
   "id": "0aa2592c-f6e6-470a-9cd3-d7dde06181b1",
   "metadata": {},
   "outputs": [
    {
     "name": "stdout",
     "output_type": "stream",
     "text": [
      "Using environment configuration: StandardEnvironment\n",
      "Fetching status: 100%|█████████████████████████| 80/80 [00:00<00:00, 857.14it/s]\n",
      "Fetching labels: 100%|████████████████████████| 25/25 [00:00<00:00, 2520.68it/s]\n",
      "\n",
      "Overview: 30 jobs/aggregates, 9 jobs/aggregates with eligible operations.\n",
      "\n",
      "label      ratio\n",
      "---------  ---------------------------------------------------------\n",
      "simulated  |██████████████████████████████▍         | 19/25 (76.00%)\n",
      "\n",
      "operation/group                      number of eligible jobs  submission status\n",
      "---------------------------------  -------------------------  -------------------\n",
      "simulate                                                   6  [U]: 25\n",
      "compute_mean_squared_displacement                          3  [U]: 5\n",
      "\n",
      "Detailed View:\n",
      "\n",
      "job id                                operation/group                        labels\n",
      "------------------------------------  -------------------------------------  ---------\n",
      "064736954081203c3037b4d7454161a7      simulate [U]\n",
      "085bd92302d27b3c67f229aa7f97b541      simulate [U]\n",
      "0adcba96014515112dbb36f01bc4cd3b      simulate [U]\n",
      "1efcaa1166dac0639adc93e4e1d704af      [ ]                                    simulated\n",
      "2c5342fbc4a87b857a3c309528931b2e      [ ]                                    simulated\n",
      "30cce016f2ab6d2280cbc00b8b49018b      [ ]                                    simulated\n",
      "4195cf40b171c1b9261f9cd4e2bff598      [ ]                                    simulated\n",
      "44f2e2d35b12b28eead4d9cc8608182b      [ ]                                    simulated\n",
      "5e2a2375314d5939e737cb3ab76a8314      [ ]                                    simulated\n",
      "5f1b7c93c0a30e66fadd393de3bc4c52      [ ]                                    simulated\n",
      "639ab2930da6d0bccea516d030e52f0e      [ ]                                    simulated\n",
      "73f408fb13faec43ed92d85d6d73ba1d      [ ]                                    simulated\n",
      "7d45469230e951c86dcf71b3f6a14134      [ ]                                    simulated\n",
      "88c5b8d20fdf5d877b2bb1b1adc7a657      simulate [U]\n",
      "8a2000b9d7456ddbe9242457489ea7c2      [ ]                                    simulated\n",
      "8c6306b70300968601066a918a5a5a6a      [ ]                                    simulated\n",
      "9360d82077f34e9522e779d18060cd9f      simulate [U]\n",
      "9a2f9daf2e0f134dbdebbb017839b7f3      [ ]                                    simulated\n",
      "a230ce14a90157041aac284ed50aeee0      [ ]                                    simulated\n",
      "a397d355e78de21a64766df961f8b88d      [ ]                                    simulated\n",
      "agg-94a87b8d2eafc10eab59201c0cf4f991  compute_mean_squared_displacement [U]\n",
      "agg-e36d0f722b74932e6030f4b05e2ac890  [ ]\n",
      "agg-f5e285237b0bfe2f2ac803319228f5e2  compute_mean_squared_displacement [U]\n",
      "agg-f7966c353a86dbeb978a87fa82547b8c  [ ]\n",
      "agg-fc67211ef9bad6fdef16b8023dd091d5  compute_mean_squared_displacement [U]\n",
      "bc6f8c5e8ccc12424c46b93f2f3a3f21      [ ]                                    simulated\n",
      "c90b0ec5d2dd84930f418563fa05574a      [ ]                                    simulated\n",
      "cfee3b552e75412f9362fd6fcb58bf26      [ ]                                    simulated\n",
      "d02a591aa454eb174c1bb1ee9501714e      simulate [U]\n",
      "d928e7ec3c716e7d92472e3f99ee2ae5      [ ]                                    simulated\n",
      "\n",
      "[U]:unknown [R]:registered [I]:inactive [S]:submitted [H]:held [Q]:queued [A]:active [E]:error [GR]:group_registered [GI]:group_inactive [GS]:group_submitted [GH]:group_held [GQ]:group_queued [GA]:group_active [GE]:group_error\n",
      "\n",
      "\n"
     ]
    }
   ],
   "source": [
    "!python project-1.py status -d"
   ]
  },
  {
   "cell_type": "code",
   "execution_count": 43,
   "id": "ddd23d07-28e9-4b99-b39e-1cd9368392c0",
   "metadata": {},
   "outputs": [],
   "source": [
    "job = project.open_job(id='88c5b8d20fdf5d877b2bb1b1adc7a657')\n"
   ]
  },
  {
   "cell_type": "code",
   "execution_count": null,
   "id": "46c0930d-66d8-48e5-9d06-07d1fbef3ad3",
   "metadata": {},
   "outputs": [],
   "source": []
  }
 ],
 "metadata": {
  "kernelspec": {
   "display_name": "Python 3 (ipykernel)",
   "language": "python",
   "name": "python3"
  },
  "language_info": {
   "codemirror_mode": {
    "name": "ipython",
    "version": 3
   },
   "file_extension": ".py",
   "mimetype": "text/x-python",
   "name": "python",
   "nbconvert_exporter": "python",
   "pygments_lexer": "ipython3",
   "version": "3.10.9"
  }
 },
 "nbformat": 4,
 "nbformat_minor": 5
}
