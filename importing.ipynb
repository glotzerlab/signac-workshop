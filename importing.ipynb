{
 "cells": [
  {
   "cell_type": "markdown",
   "id": "c6d1348b-b5d2-4dbf-807b-f4e1158bab87",
   "metadata": {},
   "source": [
    "Import simulation"
   ]
  },
  {
   "cell_type": "code",
   "execution_count": 4,
   "id": "c30346d9-3e52-41fd-86e4-7d033e2a3a10",
   "metadata": {},
   "outputs": [
    {
     "name": "stdout",
     "output_type": "stream",
     "text": [
      "usage: signac import [-h] [--move] [--sync] [--sync-interactive]\n",
      "                     [origin] [schema_path]\n",
      "\n",
      "Import an existing dataset into this project. Optionally provide a file path\n",
      "based schema to specify the state point metadata. Providing a path based\n",
      "schema is only necessary if the data set was not previously exported from a\n",
      "signac project.\n",
      "\n",
      "positional arguments:\n",
      "  origin              The origin to import from. May be a path to a directory,\n",
      "                      a zipfile, or a tarball. Defaults to the current working\n",
      "                      directory.\n",
      "  schema_path         Specify an optional import path, such as\n",
      "                      'foo/{foo:int}'. Possible type definitions include bool,\n",
      "                      int, float, and str. The type is assumed to be 'str' if\n",
      "                      no type is specified.\n",
      "\n",
      "options:\n",
      "  -h, --help          show this help message and exit\n",
      "  --move              Move the data upon import instead of copying. Can only\n",
      "                      be used when importing from a directory.\n",
      "  --sync              Attempt recursive synchronization with default\n",
      "                      arguments.\n",
      "  --sync-interactive  Synchronize the project with the origin data space\n",
      "                      interactively.\n"
     ]
    }
   ],
   "source": [
    "!signac import --help"
   ]
  },
  {
   "cell_type": "code",
   "execution_count": 14,
   "id": "d7e91154-a41a-4cfb-89b9-391f6aea60e6",
   "metadata": {},
   "outputs": [
    {
     "name": "stdout",
     "output_type": "stream",
     "text": [
      "Initialized project.\n"
     ]
    }
   ],
   "source": [
    "!signac init"
   ]
  },
  {
   "cell_type": "code",
   "execution_count": 15,
   "id": "dfa16eb1-42ba-47c1-b0a8-aedf37cb0fc4",
   "metadata": {},
   "outputs": [
    {
     "name": "stdout",
     "output_type": "stream",
     "text": [
      "Prepare data space for import...\n",
      "Importing: 100%|███████████████████████████████| 25/25 [00:00<00:00, 294.30it/s]\n",
      "Imported 25 job(s).\n"
     ]
    }
   ],
   "source": [
    "!signac import to_import 'mean/{mean:int}/standard_deviation/{standard_deviation:float}/replica_{replica:int}_seed_{seed:int}'\n"
   ]
  },
  {
   "cell_type": "code",
   "execution_count": null,
   "id": "88da7ab6-60b8-4d0a-b71f-3cc8eed83837",
   "metadata": {},
   "outputs": [],
   "source": []
  }
 ],
 "metadata": {
  "kernelspec": {
   "display_name": "Python 3 (ipykernel)",
   "language": "python",
   "name": "python3"
  },
  "language_info": {
   "codemirror_mode": {
    "name": "ipython",
    "version": 3
   },
   "file_extension": ".py",
   "mimetype": "text/x-python",
   "name": "python",
   "nbconvert_exporter": "python",
   "pygments_lexer": "ipython3",
   "version": "3.10.9"
  }
 },
 "nbformat": 4,
 "nbformat_minor": 5
}
