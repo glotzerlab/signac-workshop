{
 "cells": [
  {
   "cell_type": "code",
   "execution_count": null,
   "id": "2b08d1c8",
   "metadata": {},
   "outputs": [],
   "source": [
    "import signac\n",
    "import numpy as np\n",
    "import os\n",
    "import matplotlib.pyplot as plt\n",
    "import pandas as pd\n",
    "from IPython.display import Image"
   ]
  },
  {
   "cell_type": "markdown",
   "id": "66bf0579-73b0-4341-9f63-9302141dcf07",
   "metadata": {
    "tags": []
   },
   "source": [
    "# Intro"
   ]
  },
  {
   "cell_type": "markdown",
   "id": "3b976b93-96f2-400d-95ad-1f512d4c5e00",
   "metadata": {},
   "source": [
    "This tutorial will cover enough to get a taste of what **signac** can do and help you apply it to your existing projects."
   ]
  },
  {
   "cell_type": "markdown",
   "id": "ef9b62f7-02c0-4e5f-8f9d-d5fe8e4e8436",
   "metadata": {},
   "source": [
    "We will demonstrate the file-based workflow by estimating the value of pi.\n",
    "\n",
    "We can estimate $\\pi$ by placing points randomly on the square [0, 1] in x and y directions and counting how many lie within the unit circle.\n",
    "\n",
    "![Schematic of our method](method_illustration.png)\n",
    "\n",
    "The areas of our shapes are:\n",
    "\n",
    "$$A_\\mathrm{unit\\ square} = r^2$$\n",
    "\n",
    "$$A_\\mathrm{quarter\\ circle} = \\frac{\\pi r^2}{4}$$\n",
    "\n",
    "and we'll use $r=1$\n",
    "\n",
    "We'll estimate the ratio by scattering points uniformly on the square and counting how many are within the circle.\n",
    "\n",
    "$$\\frac{A_\\mathrm{quarter\\ circle}}{A_\\mathrm{unit\\ square}} = \\frac{\\pi}{4} \\Rightarrow \\pi \\approx 4 * \\frac{n_\\mathrm{points\\ in\\ quarter\\ circle}}{n_\\mathrm{points\\ in\\ square}} $$\n",
    "\n"
   ]
  },
  {
   "cell_type": "markdown",
   "id": "d19b081c-e74a-4fca-8586-527cde1855dd",
   "metadata": {},
   "source": [
    "When using signac for your research, you may keep track of simulation files. In this example, we use signac's storage for our data to represent this component.\n",
    "\n",
    "We still generate images of the work in progress and generate a summary plot."
   ]
  },
  {
   "cell_type": "markdown",
   "id": "e0a05f53-1253-4035-ba40-7006272e3d1b",
   "metadata": {},
   "source": [
    "## Outline of workshop\n",
    "\n",
    "1. Intro to a signac project\n",
    "\n",
    "2. Working with a signac project in a Jupyter notebook\n",
    "\n",
    "3. Using signac-flow to automate the workflow\n",
    "\n",
    "4. Making summary plots\n",
    "\n"
   ]
  },
  {
   "cell_type": "markdown",
   "id": "da9112a8",
   "metadata": {
    "jp-MarkdownHeadingCollapsed": true,
    "tags": []
   },
   "source": [
    "# Part 1: Intro to the signac project"
   ]
  },
  {
   "cell_type": "markdown",
   "id": "a9819329-c41b-4cf3-a8aa-631cc46b8b4c",
   "metadata": {},
   "source": [
    "Ensure that the the jupyter lab file sidebar is open. "
   ]
  },
  {
   "cell_type": "markdown",
   "id": "c8e4ef02-dabb-420d-b7eb-70f53c23c653",
   "metadata": {},
   "source": [
    "## Create a signac project"
   ]
  },
  {
   "cell_type": "markdown",
   "id": "e18e9426-e129-43b7-aae9-707bdc130f90",
   "metadata": {},
   "source": [
    "This creates a `signac.rc` file, so signac knows where to find a project as well as an empty workspace directory."
   ]
  },
  {
   "cell_type": "code",
   "execution_count": null,
   "id": "d337a831",
   "metadata": {},
   "outputs": [],
   "source": [
    "project = signac.init_project()"
   ]
  },
  {
   "cell_type": "markdown",
   "id": "a478da8a-95f1-4653-b434-fe3544b6acd5",
   "metadata": {},
   "source": [
    "Create a job that eventually will estimate pi with 10 points scattered.\n",
    "\n",
    "This job will have a state point with only 1 parameter."
   ]
  },
  {
   "cell_type": "code",
   "execution_count": null,
   "id": "c466e57a",
   "metadata": {},
   "outputs": [],
   "source": [
    "job = project.open_job({\"num_points\": 10})\n",
    "job.init() # initialize the job directory"
   ]
  },
  {
   "cell_type": "markdown",
   "id": "e097248e-e75d-4a4b-a8f4-c2fda2c2e640",
   "metadata": {},
   "source": [
    "Every job gets its own job id"
   ]
  },
  {
   "cell_type": "code",
   "execution_count": null,
   "id": "964dd9e7-6059-4ffe-afab-e7014b44ae7f",
   "metadata": {},
   "outputs": [],
   "source": [
    "job.id"
   ]
  },
  {
   "cell_type": "markdown",
   "id": "85514e0e-0b17-45aa-a702-6b4a73f08a7d",
   "metadata": {},
   "source": [
    "The state point is accessible through the Job object."
   ]
  },
  {
   "cell_type": "code",
   "execution_count": null,
   "id": "286cabfc-9948-4eb8-9ab7-8c8d39d0c914",
   "metadata": {},
   "outputs": [],
   "source": [
    "job.sp['num_points']"
   ]
  },
  {
   "cell_type": "markdown",
   "id": "5c6b6843-95e9-4e23-801a-7db5031874e2",
   "metadata": {},
   "source": [
    "## Remember that everything is stored on the filesystem."
   ]
  },
  {
   "cell_type": "markdown",
   "id": "b4a10dd4-ce94-4cf6-80cd-358a66f0ddc5",
   "metadata": {},
   "source": [
    "Observe the workspace directory (in your filesystem or juptyer sidebar) and the job directory created within it:"
   ]
  },
  {
   "cell_type": "code",
   "execution_count": null,
   "id": "2387ea71-feb5-48d2-9af7-6bf55c749fd7",
   "metadata": {},
   "outputs": [],
   "source": [
    "os.listdir()"
   ]
  },
  {
   "cell_type": "code",
   "execution_count": null,
   "id": "f44a39ff-af8a-4cf7-85d0-c53d43027c04",
   "metadata": {},
   "outputs": [],
   "source": [
    "os.listdir('workspace')"
   ]
  },
  {
   "cell_type": "markdown",
   "id": "c45001ce-b4e0-4fb5-9204-dce1d55c7017",
   "metadata": {},
   "source": [
    "Note that the name of the only directory in the workspace matches the job id! Every job has its own id."
   ]
  },
  {
   "cell_type": "markdown",
   "id": "49e5931f-b454-45b0-8e74-63055030c5fd",
   "metadata": {},
   "source": [
    "We can get this job directory with the `job.fn('')` method. This is also used to get a path to files in the job directory."
   ]
  },
  {
   "cell_type": "code",
   "execution_count": null,
   "id": "8745eb9d-f58d-41f2-a132-9f4dfbb3f544",
   "metadata": {},
   "outputs": [],
   "source": [
    "job.fn('')"
   ]
  },
  {
   "cell_type": "markdown",
   "id": "8ba46280-7e5e-487c-a539-083853c88fd6",
   "metadata": {},
   "source": [
    "What files are stored in the job directory?"
   ]
  },
  {
   "cell_type": "code",
   "execution_count": null,
   "id": "e4ab38b8-3b56-4748-87da-0325a9aa5d0a",
   "metadata": {},
   "outputs": [],
   "source": [
    "os.listdir(job.fn(''))"
   ]
  },
  {
   "cell_type": "markdown",
   "id": "f2ecefef-6dd8-4a60-b82d-c7885e98768d",
   "metadata": {},
   "source": [
    "So far, the job directory only contains the json file with our state point information, but we can add more soon."
   ]
  },
  {
   "cell_type": "markdown",
   "id": "36a196a4-df6f-4620-91d2-f08415bf52d1",
   "metadata": {
    "jp-MarkdownHeadingCollapsed": true,
    "tags": []
   },
   "source": [
    "# Part 2: Working with a signac project in a Jupyter notebook"
   ]
  },
  {
   "cell_type": "markdown",
   "id": "161de674-090e-4255-aaaf-2368c7d5c453",
   "metadata": {},
   "source": [
    "You can work with signac jobs in a notebook.\n",
    "\n"
   ]
  },
  {
   "cell_type": "markdown",
   "id": "a92cd82a-ed77-40e8-ac08-981274af7502",
   "metadata": {},
   "source": [
    "## Prototyping code"
   ]
  },
  {
   "cell_type": "markdown",
   "id": "eb0ca492-f7fa-47ab-a890-c67d8f756f91",
   "metadata": {},
   "source": [
    "Here is some code to generate random points in 2D from a specified seed."
   ]
  },
  {
   "cell_type": "markdown",
   "id": "0470b558-29e4-4aa1-badf-1af2780b4a72",
   "metadata": {},
   "source": [
    "We save the results in the job data store, which uses a binary file format called HDF5 that will be saved in the job directory."
   ]
  },
  {
   "cell_type": "code",
   "execution_count": null,
   "id": "b0b6878e",
   "metadata": {},
   "outputs": [],
   "source": [
    "# retrieve a value from the state point\n",
    "num_points = job.sp.num_points\n",
    "\n",
    "# create a random number generator with a fixed seed so the results are replicable\n",
    "rng = np.random.default_rng(2022)\n",
    "points = rng.random(size=(num_points, 2))\n",
    "\n",
    "print(points)\n",
    "\n",
    "# save information to the job data store\n",
    "job.data['points'] = points"
   ]
  },
  {
   "cell_type": "markdown",
   "id": "dc892199-7cee-4fb8-8c65-e78a4ef7ea2f",
   "metadata": {
    "tags": []
   },
   "source": [
    "#### **Question** What files are in the job directory now?"
   ]
  },
  {
   "cell_type": "markdown",
   "id": "41fef2e4-341f-4d45-999f-1e1238006e92",
   "metadata": {
    "jp-MarkdownHeadingCollapsed": true,
    "tags": []
   },
   "source": [
    "#### (possible solution collapsed below)"
   ]
  },
  {
   "cell_type": "code",
   "execution_count": null,
   "id": "be64e1ae-e541-427e-8ea1-8a2f41788af2",
   "metadata": {},
   "outputs": [],
   "source": [
    "# suggested solution\n",
    "os.listdir(job.fn(''))\n",
    "\n",
    "# you can also check the file system in Jupyter lab\n"
   ]
  },
  {
   "cell_type": "markdown",
   "id": "40daf19f-9bc9-4453-a03a-2ce59228bc1b",
   "metadata": {},
   "source": [
    "### Access job data for a calculation"
   ]
  },
  {
   "cell_type": "code",
   "execution_count": null,
   "id": "29c96d60",
   "metadata": {},
   "outputs": [],
   "source": [
    "with job.data:\n",
    "    points = job.data.points[:]\n",
    "    inside_circle = np.linalg.norm(points, axis=1) < 1\n",
    "    job.data['selected'] = points[inside_circle]\n",
    "    count = sum(inside_circle)\n",
    "\n",
    "job.doc.pi_estimate = float(4 * count/num_points)"
   ]
  },
  {
   "cell_type": "markdown",
   "id": "9a93f30a-fcf7-4dfa-b9c6-40861aba5b2e",
   "metadata": {
    "tags": []
   },
   "source": [
    "#### **Question** Notice that we stored this information in the job document. How can you access the information saved in the job document? (Hint: it's like accessing the state point)"
   ]
  },
  {
   "cell_type": "markdown",
   "id": "73c30690-75af-4a0a-9386-5da706b62bf9",
   "metadata": {
    "jp-MarkdownHeadingCollapsed": true,
    "tags": []
   },
   "source": [
    "#### (possible solution collapsed below)"
   ]
  },
  {
   "cell_type": "code",
   "execution_count": null,
   "id": "5b5b7565",
   "metadata": {},
   "outputs": [],
   "source": [
    "job.doc.pi_estimate # doc is short for \"document\""
   ]
  },
  {
   "cell_type": "markdown",
   "id": "c2837d2f-863e-4608-862b-b3a37d9e3662",
   "metadata": {
    "tags": []
   },
   "source": [
    "#### **Exercise** This is not a very good estimate. Make a new job with a bigger value of `num_points` in its state point to use in the next section."
   ]
  },
  {
   "cell_type": "markdown",
   "id": "5db59ba1-e5ce-4474-be43-74e3a901ea7c",
   "metadata": {
    "jp-MarkdownHeadingCollapsed": true,
    "tags": []
   },
   "source": [
    "#### (possible solution collapsed below)"
   ]
  },
  {
   "cell_type": "code",
   "execution_count": null,
   "id": "27ea3ab2-1daa-4087-abdb-59be70af7f3b",
   "metadata": {},
   "outputs": [],
   "source": [
    "# possible solution\n",
    "\n",
    "# you can assign your job to a variable named however you want!\n",
    "job = project.open_job({\"num_points\": 1000})\n",
    "job.init()"
   ]
  },
  {
   "cell_type": "markdown",
   "id": "a88833ea-5bd8-4796-886d-375e4964ffa4",
   "metadata": {
    "tags": []
   },
   "source": [
    "Notice the additional directory created in the workspace."
   ]
  },
  {
   "cell_type": "code",
   "execution_count": null,
   "id": "e5a0cb93",
   "metadata": {
    "tags": []
   },
   "outputs": [],
   "source": [
    "os.listdir('workspace')"
   ]
  },
  {
   "cell_type": "markdown",
   "id": "812a3e07-a85b-4c63-b4e5-52f456dfd204",
   "metadata": {
    "tags": []
   },
   "source": [
    "#### **Question** Compare your new job id to someone else going through the tutorial. Are your job ids the same? Why or why not?"
   ]
  },
  {
   "cell_type": "code",
   "execution_count": null,
   "id": "59317072-fdac-4f5e-8ad3-78ded063978f",
   "metadata": {},
   "outputs": [],
   "source": [
    "my_new_job_id = job.id # saving this for later"
   ]
  },
  {
   "cell_type": "markdown",
   "id": "2e7cd0c5-ec17-4c02-89f2-37f422a517c5",
   "metadata": {
    "jp-MarkdownHeadingCollapsed": true,
    "tags": []
   },
   "source": [
    "#### (answer)"
   ]
  },
  {
   "cell_type": "markdown",
   "id": "00e2065d-036a-4e7f-9b7c-72e33f019f2e",
   "metadata": {},
   "source": [
    "The job id will match that of another job only if the state point is identical."
   ]
  },
  {
   "cell_type": "markdown",
   "id": "567d41e1",
   "metadata": {},
   "source": [
    "### Turn previous code into functions for reuse"
   ]
  },
  {
   "cell_type": "code",
   "execution_count": null,
   "id": "e96e6fc2",
   "metadata": {},
   "outputs": [],
   "source": [
    "def scatter_square(job):\n",
    "    \"\"\"Generate job.sp.num_points number\n",
    "    of xy pairs of points within the [0,1] square \n",
    "    and save it to the job data store.\n",
    "    \n",
    "    Optionally, initialize the random number\n",
    "    generator with the seed job.sp.seed\"\"\"\n",
    "    num_points = job.sp.num_points\n",
    "    \n",
    "    # Use the seed if our job has one\n",
    "    seed = job.sp.get(\"seed\", None)\n",
    "    # We'll add seed to our state point later\n",
    "    rng = np.random.default_rng(seed)\n",
    "    \n",
    "    # defaults to within [0,1] in each dimension\n",
    "    points = rng.random(size=(num_points, 2))\n",
    "    job.data['points'] = points\n"
   ]
  },
  {
   "cell_type": "code",
   "execution_count": null,
   "id": "63d522eb",
   "metadata": {},
   "outputs": [],
   "source": [
    "def calculate_pi(job):\n",
    "    \"\"\"Estimate pi by counting points within the unit circle.\n",
    "    Points within the unit circle are saved in the job data store. \n",
    "    Set the job.doc.pi_estimate to the result.\n",
    "    \n",
    "    Input\n",
    "    =====\n",
    "    job, a signac job object\"\"\"\n",
    "    with job.data:\n",
    "        points = job.data.points[:]\n",
    "        # within the unit circle\n",
    "        inside_circle = np.linalg.norm(points, axis=1) < 1\n",
    "        job.data['selected'] = points[inside_circle]\n",
    "    count = sum(inside_circle)\n",
    "    num_points = job.sp.num_points\n",
    "    job.doc.pi_estimate = float(4 * count/num_points)"
   ]
  },
  {
   "cell_type": "code",
   "execution_count": null,
   "id": "dfb8ae29-7e5b-41bd-a4c3-05e8b5b8a769",
   "metadata": {},
   "outputs": [],
   "source": [
    "def render_image(job):\n",
    "    f,a = plt.subplots()\n",
    "    with job.data:\n",
    "        points = job.data.points[:]\n",
    "        selected = job.data.selected[:]\n",
    "    a.plot(*points.T, '.b')\n",
    "    a.plot(*selected.T, 'or')\n",
    "    a.set_aspect('equal')\n",
    "    plt.setp(a,\n",
    "             title = \"Visualizing Pi Estimate\",\n",
    "             )\n",
    "    plt.savefig(job.fn(\"preview.png\"), format='png', dpi=150)\n",
    "    plt.close(f)"
   ]
  },
  {
   "cell_type": "markdown",
   "id": "cd590518",
   "metadata": {
    "tags": []
   },
   "source": [
    "### **Exercise**: Apply these functions one after the other to estimate pi with your new job.\n"
   ]
  },
  {
   "cell_type": "markdown",
   "id": "aec49525-71fb-4f0c-916e-9b0427e8297f",
   "metadata": {},
   "source": [
    "Note: you can open another job by passing a string to the `id` argument of the `open_job` method."
   ]
  },
  {
   "cell_type": "code",
   "execution_count": null,
   "id": "811aa332-a9fb-4a43-a284-5a15693dd7a6",
   "metadata": {},
   "outputs": [],
   "source": [
    "# access your job to run operations on it\n",
    "job = project.open_job(id = my_new_job_id) # note that you only have to include enough to uniquely identify your job\n",
    "print(job.id)"
   ]
  },
  {
   "cell_type": "markdown",
   "id": "eb15d7de-fbbe-4ff7-aa75-3b1391608561",
   "metadata": {
    "tags": []
   },
   "source": [
    "#### (possible solution collapsed below)"
   ]
  },
  {
   "cell_type": "code",
   "execution_count": null,
   "id": "1c77a1ff-d2a9-4be8-927e-d2c46f9b26b1",
   "metadata": {},
   "outputs": [],
   "source": [
    "scatter_square(job) # or whatever you called your new job"
   ]
  },
  {
   "cell_type": "code",
   "execution_count": null,
   "id": "c193b69a-cbd0-4ffc-bff8-6d011abd64e8",
   "metadata": {},
   "outputs": [],
   "source": [
    "calculate_pi(job)"
   ]
  },
  {
   "cell_type": "code",
   "execution_count": null,
   "id": "40456f1e-3fcc-478c-85fe-6b8fac82b69a",
   "metadata": {},
   "outputs": [],
   "source": [
    "render_image(job)"
   ]
  },
  {
   "cell_type": "markdown",
   "id": "9a289dc1-138e-4060-9b96-cad9004bc78d",
   "metadata": {},
   "source": [
    "We use an IPython function to display an image from a path, which we get with the `job.fn` method."
   ]
  },
  {
   "cell_type": "code",
   "execution_count": null,
   "id": "68d282fd-8052-4389-8897-57d22c3b07ea",
   "metadata": {},
   "outputs": [],
   "source": [
    "Image(job.fn('preview.png'))"
   ]
  },
  {
   "cell_type": "markdown",
   "id": "80df47d4-8276-4a34-b9cd-35c14fc2a61c",
   "metadata": {},
   "source": [
    "We can use the command line command to summarize the job(s) we've made:"
   ]
  },
  {
   "cell_type": "code",
   "execution_count": null,
   "id": "649d2ee2-2e89-4547-9656-fa7c5e2419cc",
   "metadata": {},
   "outputs": [],
   "source": [
    "!signac schema"
   ]
  },
  {
   "cell_type": "markdown",
   "id": "3c4be4eb-b102-432a-b348-2ce38e30ec65",
   "metadata": {
    "jp-MarkdownHeadingCollapsed": true,
    "tags": []
   },
   "source": [
    "# Check your understanding and discuss with your neighbors or the slack channel (signac.io/slack-invite)"
   ]
  },
  {
   "cell_type": "markdown",
   "id": "c30462b8-3be3-4b6f-84cb-b4a66d966b06",
   "metadata": {
    "tags": []
   },
   "source": [
    "## • What happens if you run the functions `scatter_square(job)` and `calculate_pi(job)` functions again?\n",
    "(perhaps by re-running those cells)"
   ]
  },
  {
   "cell_type": "markdown",
   "id": "be305dba-2d70-406a-8cb7-65fd12d66b88",
   "metadata": {
    "jp-MarkdownHeadingCollapsed": true,
    "tags": []
   },
   "source": [
    "#### (answer collapsed below)"
   ]
  },
  {
   "cell_type": "markdown",
   "id": "53fa6164-e2c0-4898-b65a-2fe612fbb0e8",
   "metadata": {},
   "source": [
    "* The scattered points, and therefore the estimate of pi, are different each time"
   ]
  },
  {
   "cell_type": "markdown",
   "id": "d855c779-8c55-4e6d-8715-101ff50504f6",
   "metadata": {},
   "source": [
    "## • Why do you get a different result?"
   ]
  },
  {
   "cell_type": "markdown",
   "id": "05d5d373-b5e7-4933-9e8c-3812cd9b654d",
   "metadata": {
    "tags": []
   },
   "source": [
    "#### (answer collapsed below)"
   ]
  },
  {
   "cell_type": "markdown",
   "id": "1f7cd095-8ee3-4dd7-a549-0c9ac705a6ad",
   "metadata": {},
   "source": [
    "The pseudo-random number generator is initialized with a different seed each time."
   ]
  },
  {
   "cell_type": "markdown",
   "id": "f7bcf86c-73c5-48a1-b883-b87a27f567cd",
   "metadata": {},
   "source": [
    "NEXT: To make our workflow fully reproducible, we will add a `seed` to the job state point from now on."
   ]
  },
  {
   "cell_type": "markdown",
   "id": "6004021c-9d72-4a5f-9d08-654eb4bfba6c",
   "metadata": {
    "tags": []
   },
   "source": [
    "## • What is preventing us from running these operations again?"
   ]
  },
  {
   "cell_type": "markdown",
   "id": "4d4a207a-77fa-481e-8e80-12d9756ff20d",
   "metadata": {
    "tags": []
   },
   "source": [
    "#### (answer collapsed below)"
   ]
  },
  {
   "cell_type": "markdown",
   "id": "a04a13a7-324c-43a3-ac2a-920519625a3a",
   "metadata": {},
   "source": [
    "Nothing we've implemented so far would prevent us from running an operation again. We would have to either\n",
    "\n",
    "* keep track of what we run in a lab notebook\n",
    "* check the job directory for evidence that the operation ran (such as the existence of `job.doc.pi_estimate`)"
   ]
  },
  {
   "cell_type": "markdown",
   "id": "e944f149-5f48-4212-a168-fc4e586f57e8",
   "metadata": {},
   "source": [
    "NEXT: we need a way to track when operations have run"
   ]
  },
  {
   "cell_type": "markdown",
   "id": "5e3135c6-66bd-4373-9a45-2844135edba5",
   "metadata": {},
   "source": [
    "## • What if `calculate_pi` is accidentally run before `scatter_square`?"
   ]
  },
  {
   "cell_type": "markdown",
   "id": "3049a2da-5295-4596-bdac-0b4ad650a650",
   "metadata": {
    "tags": []
   },
   "source": [
    "#### (answer collapsed below)"
   ]
  },
  {
   "cell_type": "markdown",
   "id": "b9b09b74-1623-42b2-81ce-9241965e1638",
   "metadata": {},
   "source": [
    "You'll get an error trying to access 'points' data from the non-existing data store."
   ]
  },
  {
   "cell_type": "markdown",
   "id": "a67df966-99a4-4f2b-8382-35cca6702dd8",
   "metadata": {},
   "source": [
    "NEXT: We need a way to control the order of operations."
   ]
  },
  {
   "cell_type": "markdown",
   "id": "07daaaa5-e6e5-4680-a439-236334e3a1a8",
   "metadata": {
    "tags": []
   },
   "source": [
    "## **Exercise** Generating multiple jobs. Write code to create a job for the numbers in `nums_to_create` of these numbers, all for a seed of 2022.\n",
    "\n",
    "We're adding a seed so that the estimate of pi from each job doesn't change if the workflow is run again.\n",
    "\n"
   ]
  },
  {
   "cell_type": "code",
   "execution_count": null,
   "id": "a04886b4-7ce3-4b62-8022-e54dcd561986",
   "metadata": {
    "tags": []
   },
   "outputs": [],
   "source": [
    "nums_to_create = range(20,45,5)"
   ]
  },
  {
   "cell_type": "markdown",
   "id": "8bf5aa11-3815-4c88-b5b2-897ce09e83fd",
   "metadata": {
    "jp-MarkdownHeadingCollapsed": true,
    "tags": []
   },
   "source": [
    "#### (a possible answer is collapsed below)"
   ]
  },
  {
   "cell_type": "code",
   "execution_count": null,
   "id": "6c8b9451-501f-4cca-8991-68c4b1e07825",
   "metadata": {
    "tags": [
     "hide_input"
    ]
   },
   "outputs": [],
   "source": [
    "for n in nums_to_create:\n",
    "    job = project.open_job({\"num_points\": n,\n",
    "                            \"seed\": 2022})\n",
    "    job.init()"
   ]
  },
  {
   "cell_type": "markdown",
   "id": "6ae7f3e8-0336-4a7a-9494-961e84124f5d",
   "metadata": {},
   "source": [
    "You will often place such initializing code in a script, for instance, in `init.py`"
   ]
  },
  {
   "cell_type": "markdown",
   "id": "7d6740dc-035b-4e5a-8667-efb05782d083",
   "metadata": {},
   "source": [
    "In Part 2, we covered\n",
    "how to work with jobs in a juptyer notebook by passing job objects to functions. Next, we'll cover how to automate this using **signac-flow**."
   ]
  },
  {
   "cell_type": "markdown",
   "id": "81ae5712-1b0b-46dd-b282-204728b09e6c",
   "metadata": {
    "jp-MarkdownHeadingCollapsed": true,
    "tags": []
   },
   "source": [
    "# Part 3: Using signac-flow to automate the workflow"
   ]
  },
  {
   "cell_type": "markdown",
   "id": "e7e17ee2-26d1-4b28-a65c-739a9083e221",
   "metadata": {},
   "source": [
    "Open in the file `project.py` by double clicking it in the jupyter lab sidebar.\n",
    "\n",
    "It contains *just* the decorators needed to convert our functions into a workflow with signac-flow."
   ]
  },
  {
   "cell_type": "markdown",
   "id": "8972948c-b6c6-4072-a7b4-f575a47d7c5f",
   "metadata": {
    "tags": []
   },
   "source": [
    "**Exercise: Copy and paste the bodies of the functions from this notebook into `project.py` in the correct places.**"
   ]
  },
  {
   "cell_type": "markdown",
   "id": "a632d195-81c0-4b56-a5bf-eee40169d38c",
   "metadata": {},
   "source": [
    "Check the current status of our project like this:"
   ]
  },
  {
   "cell_type": "code",
   "execution_count": null,
   "id": "985ec637-46dd-427a-b17d-21b17dd3de5f",
   "metadata": {},
   "outputs": [],
   "source": [
    "!python project.py status"
   ]
  },
  {
   "cell_type": "markdown",
   "id": "62c5a1d2-3017-4e55-be17-32c44b5449ab",
   "metadata": {},
   "source": [
    "You should see something like this:\n",
    "```\n",
    "Using environment configuration: StandardEnvironment\n",
    "Fetching status: 100%|█████████████████████████| 21/21 [00:00<00:00, 296.66it/s]\n",
    "Fetching labels: 100%|██████████████████████████| 7/7 [00:00<00:00, 3283.40it/s]\n",
    "\n",
    "Overview: 7 jobs/aggregates, 6 jobs/aggregates with eligible operations.\n",
    "\n",
    "label             ratio\n",
    "----------------  -------------------------------------------------------\n",
    "points_generated  |███████████▍                            | 2/7 (28.57%)\n",
    "\n",
    "operation/group      number of eligible jobs  submission status\n",
    "-----------------  -------------------------  -------------------\n",
    "scatter_square                             5  [U]: 7\n",
    "render_image                               1  [U]: 7\n",
    "\n",
    "[U]:unknown [R]:registered [I]:inactive [S]:submitted [H]:held [Q]:queued [A]:active [E]:error [GR]:group_registered [GI]:group_inactive [GS]:group_submitted [GH]:group_held [GQ]:group_queued [GA]:group_active [GE]:group_error\n",
    "\n",
    "```\n",
    "\n",
    "Note:\n",
    "* Here, the total number of jobs is 7\n",
    "* We have run all of the operations for one job, so the total of the number eligible jobs is 5."
   ]
  },
  {
   "cell_type": "markdown",
   "id": "58eb753b-560d-4884-88ce-ab580d2207cc",
   "metadata": {},
   "source": [
    "Run one operation, using the verbose flag to print more status information."
   ]
  },
  {
   "cell_type": "code",
   "execution_count": null,
   "id": "04fbdcd8-7d6d-4df4-a1f9-fc68cf6ae542",
   "metadata": {},
   "outputs": [],
   "source": [
    "!python project.py run --num 1 --verbose"
   ]
  },
  {
   "cell_type": "markdown",
   "id": "aa2d0a8b-7050-4aad-89d9-9b9608b1d247",
   "metadata": {},
   "source": [
    "Note that the warning \"WARNING:flow.project:Reached the maximum number of operations that can be executed, but there are still eligible operations.\" is reminding us that we told signac-flow to stop after 1 operation"
   ]
  },
  {
   "cell_type": "markdown",
   "id": "32d539de-6ac6-4af5-bef1-92df74ddc125",
   "metadata": {},
   "source": [
    "Run every `render_image` operation that is ready to run"
   ]
  },
  {
   "cell_type": "code",
   "execution_count": null,
   "id": "76baa09c-a873-4152-85fd-e8926d25de05",
   "metadata": {},
   "outputs": [],
   "source": [
    "!python project.py run --operation render_image --verbose"
   ]
  },
  {
   "cell_type": "markdown",
   "id": "3dab6c5e-2a8c-4ac1-9298-98939013e9c0",
   "metadata": {},
   "source": [
    "Note the blank `[]` next to the job ids with no operations eligible."
   ]
  },
  {
   "cell_type": "code",
   "execution_count": null,
   "id": "e339db8c-a057-44a2-bdfd-25870be3512e",
   "metadata": {},
   "outputs": [],
   "source": [
    "!python project.py status --detailed"
   ]
  },
  {
   "cell_type": "markdown",
   "id": "902c6ba6-c36e-49fa-8247-919a0a38a61f",
   "metadata": {},
   "source": [
    "## Exercise: Run the rest of the operations in the project"
   ]
  },
  {
   "cell_type": "markdown",
   "id": "3df964f5-ec61-43f0-80d1-868b9f6af145",
   "metadata": {
    "jp-MarkdownHeadingCollapsed": true,
    "tags": []
   },
   "source": [
    "#### (possible solution collapsed below)"
   ]
  },
  {
   "cell_type": "code",
   "execution_count": null,
   "id": "8a2ff20c-9863-4d3e-b80c-4cd160281d80",
   "metadata": {},
   "outputs": [],
   "source": [
    "!python project.py run"
   ]
  },
  {
   "cell_type": "markdown",
   "id": "6b032ca3-2fee-4528-8372-6d7c88079018",
   "metadata": {
    "jp-MarkdownHeadingCollapsed": true,
    "tags": []
   },
   "source": [
    "# Part 4: Making summary plots"
   ]
  },
  {
   "cell_type": "markdown",
   "id": "5d352555-1164-4607-942f-d65090acd92c",
   "metadata": {},
   "source": [
    "Before this section, run all operations in the project."
   ]
  },
  {
   "cell_type": "markdown",
   "id": "737b3cde-f0c8-4121-8676-f37240ada830",
   "metadata": {},
   "source": [
    "## A quick way to convert a signac project to tabular format"
   ]
  },
  {
   "cell_type": "markdown",
   "id": "01b7231e-30b2-474c-8358-d23f95ad796c",
   "metadata": {},
   "source": [
    "The default columns will consist of the job state point parameters and job document keys, but you can filter those with additional parameters of the `to_dataframe` function.\n",
    "\n",
    "There are NaNs in the table because we have a heterogenous data schema (not all jobs have a `seed`), and when converting to a homogenous format, signac places NaNs in the gaps."
   ]
  },
  {
   "cell_type": "code",
   "execution_count": null,
   "id": "5d463f58-bcc3-4052-a74f-1fde8af48535",
   "metadata": {},
   "outputs": [],
   "source": [
    "project.to_dataframe()"
   ]
  },
  {
   "cell_type": "markdown",
   "id": "6f541467-57da-4bdf-a511-aff8b064e9fd",
   "metadata": {
    "tags": []
   },
   "source": [
    "## Aggregation by number"
   ]
  },
  {
   "cell_type": "markdown",
   "id": "ffa594dd-9a92-49df-9dac-2cf74be863fa",
   "metadata": {},
   "source": [
    "To visualize these results, we'll access the `job.doc.pi_estimate` of each job and plot it on one plot. The code for this is in the file `project-aggregation.py`, which includes a new function for this."
   ]
  },
  {
   "cell_type": "markdown",
   "id": "e3399934-eea0-48ef-993a-27d4131b0362",
   "metadata": {},
   "source": [
    "The last `@PiProject.operation` takes an argument that creates an aggregator,\n",
    "`aggregator = flow.aggregator(sort_by = \"num_points\")`. With this, you can access data from sets of jobs."
   ]
  },
  {
   "cell_type": "markdown",
   "id": "db2811cf-b8b0-4b25-9d92-711ef97d55f4",
   "metadata": {},
   "source": [
    "The aggregate operation shows up in the status list"
   ]
  },
  {
   "cell_type": "code",
   "execution_count": null,
   "id": "76776fcd-75ee-4e87-91d3-b624e9a9b766",
   "metadata": {},
   "outputs": [],
   "source": [
    "!python project-aggregation.py status"
   ]
  },
  {
   "cell_type": "code",
   "execution_count": null,
   "id": "d5e67180-1695-4859-906a-4e7ec038f253",
   "metadata": {},
   "outputs": [],
   "source": [
    "!python project-aggregation.py run"
   ]
  },
  {
   "cell_type": "code",
   "execution_count": null,
   "id": "5a4ecab8-9ed9-4ffc-ab92-aaef6d1b9122",
   "metadata": {},
   "outputs": [],
   "source": [
    "Image('convergence.png')"
   ]
  }
 ],
 "metadata": {
  "kernelspec": {
   "display_name": "Python 3 (ipykernel)",
   "language": "python",
   "name": "python3"
  },
  "language_info": {
   "codemirror_mode": {
    "name": "ipython",
    "version": 3
   },
   "file_extension": ".py",
   "mimetype": "text/x-python",
   "name": "python",
   "nbconvert_exporter": "python",
   "pygments_lexer": "ipython3",
   "version": "3.10.9"
  }
 },
 "nbformat": 4,
 "nbformat_minor": 5
}
