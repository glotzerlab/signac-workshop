{
 "cells": [
  {
   "cell_type": "markdown",
   "id": "c6d1348b-b5d2-4dbf-807b-f4e1158bab87",
   "metadata": {},
   "source": [
    "# Converting project to use signac"
   ]
  },
  {
   "cell_type": "markdown",
   "id": "4aba6c44-3720-482d-b736-e780433ed38d",
   "metadata": {},
   "source": [
    "This tutorial will demonstrate how to turn an existing project into a project tracked by signac, assuming the project uses nested directories to organize the data.\n"
   ]
  },
  {
   "cell_type": "markdown",
   "id": "002e1ac1-839e-4871-9975-6014e78f274c",
   "metadata": {},
   "source": [
    "First, create a signac project to import into"
   ]
  },
  {
   "cell_type": "code",
   "execution_count": null,
   "id": "83573809-e7b0-40fb-b6d4-54339dda5edd",
   "metadata": {},
   "outputs": [],
   "source": [
    "!signac init"
   ]
  },
  {
   "cell_type": "markdown",
   "id": "7117ebb8-4c4c-4c3c-b895-612f8f747c51",
   "metadata": {},
   "source": [
    "We will use the `signac import` command"
   ]
  },
  {
   "cell_type": "code",
   "execution_count": null,
   "id": "c30346d9-3e52-41fd-86e4-7d033e2a3a10",
   "metadata": {},
   "outputs": [],
   "source": [
    "!signac import --help"
   ]
  },
  {
   "cell_type": "markdown",
   "id": "e7380805-b34a-48df-957f-3d3885739942",
   "metadata": {},
   "source": [
    "What is the schema of the directory layout?"
   ]
  },
  {
   "cell_type": "markdown",
   "id": "0ac2989c-d010-419c-8d07-48ca1662fadc",
   "metadata": {},
   "source": [
    "Let's import this project into signac by writing the appropriate schema_path for the `import` command"
   ]
  },
  {
   "cell_type": "code",
   "execution_count": null,
   "id": "dfa16eb1-42ba-47c1-b0a8-aedf37cb0fc4",
   "metadata": {},
   "outputs": [],
   "source": [
    "!signac import random_walk_project 'standard_deviation/{standard_deviation:float}/replica_{replica:int}_seed_{seed:int}'\n"
   ]
  },
  {
   "cell_type": "markdown",
   "id": "1ca9839f-fd6e-404d-a587-8f82716c3ede",
   "metadata": {},
   "source": [
    "## Converting code to use signac\n",
    "\n",
    "For this exercise, we will only convert the first two operations (`simulate` and `compute_squared_displacement`), so we have reproduced those parts here.\n",
    "\n",
    "The main actions involve:\n",
    "\n",
    "- Get parameters from signac state point (job.sp)\n",
    "- Replace cases of os.path.join(path, ...) with job.fn(...)"
   ]
  },
  {
   "cell_type": "code",
   "execution_count": null,
   "id": "c11fb958-43f3-477c-ad07-9c7912e39f88",
   "metadata": {},
   "outputs": [],
   "source": [
    "import signac\n",
    "import numpy as np\n",
    "import h5py\n",
    "import matplotlib.pyplot as plt"
   ]
  },
  {
   "cell_type": "code",
   "execution_count": null,
   "id": "3ecb486f-05e0-4cb5-a4ad-1502f7d69101",
   "metadata": {},
   "outputs": [],
   "source": [
    "project = signac.get_project()"
   ]
  },
  {
   "cell_type": "markdown",
   "id": "c52dc3f2-3f82-43e0-ae75-4ef7eca5259d",
   "metadata": {},
   "source": [
    "First, let's find the signac_statepoint.json file and confirm that the import was correct."
   ]
  },
  {
   "cell_type": "code",
   "execution_count": null,
   "id": "f132bfac-ab13-4d97-9748-25bcfd549738",
   "metadata": {},
   "outputs": [],
   "source": [
    "project.find_jobs({'seed': 221141651})"
   ]
  },
  {
   "cell_type": "code",
   "execution_count": null,
   "id": "bf94a394-33b2-43b1-b190-a445c753aedb",
   "metadata": {},
   "outputs": [],
   "source": [
    "filter_match"
   ]
  },
  {
   "cell_type": "markdown",
   "id": "3f3fbf00-cb8d-4afe-9a18-72afa1af8c74",
   "metadata": {},
   "source": [
    "Follow along to convert these variables to load from the job state point"
   ]
  },
  {
   "cell_type": "code",
   "execution_count": null,
   "id": "0626fea2-c652-4f90-b23d-005804563b4a",
   "metadata": {},
   "outputs": [],
   "source": [
    "job = next(iter(filter_match))"
   ]
  },
  {
   "cell_type": "code",
   "execution_count": null,
   "id": "1acae8cf-d4e1-4a5e-8388-648ef3e2da1f",
   "metadata": {},
   "outputs": [],
   "source": [
    "run_steps = 5000\n",
    "mean = 0\n",
    "\n",
    "standard_deviation = job.sp.standard_deviation\n",
    "replica = job.sp.replica\n",
    "seed = job.sp.seed\n"
   ]
  },
  {
   "cell_type": "markdown",
   "id": "3cbbde84-1366-45d8-affb-01400eaf3b6d",
   "metadata": {},
   "source": [
    "Convert the `simulate` operation:"
   ]
  },
  {
   "cell_type": "code",
   "execution_count": null,
   "id": "a28f0348-6144-481e-a4b6-d6c31c699b0c",
   "metadata": {},
   "outputs": [],
   "source": [
    "# Get variables from state point\n",
    "\n",
    "generator = np.random.default_rng(seed)\n",
    "\n",
    "# Generate all moves at once since they are independent\n",
    "moves = generator.normal(mean, standard_deviation, (run_steps, 2))\n",
    "positions = np.zeros((run_steps + 1, 2), dtype=float)\n",
    "\n",
    "# Store the results: perform a cumulative sum of all moves starting from the origin\n",
    "positions[1:] = np.cumsum(moves, axis=0)\n",
    "\n",
    "\n",
    "\n",
    "# Recall what file saving looked like, but note that the old path will not work.\n",
    "\n",
    "# with h5py.File(os.path.join(path, \"signac_data.h5\"), 'w') as hf:\n",
    "#     hf.create_dataset(\"positions\", data=positions, dtype='f')"
   ]
  },
  {
   "cell_type": "markdown",
   "id": "3864f582-7fd4-4095-b90b-a18723aca221",
   "metadata": {},
   "source": [
    "Convert the `compute_squared_displacement` operation:"
   ]
  },
  {
   "cell_type": "code",
   "execution_count": null,
   "id": "29b182be-1a1b-45bf-8678-486c0dc0d062",
   "metadata": {},
   "outputs": [],
   "source": [
    "squared_displacement = np.sum(positions * positions, axis=1)\n",
    "\n",
    "\n",
    "# Recall what file saving looked like, but note that the old path will not work.\n",
    "\n",
    "#with h5py.File(os.path.join(path, \"signac_data.h5\"), 'w') as hf:\n",
    "#    hf.create_dataset(\"squared_displacement\", data=squared_displacement, dtype='f')"
   ]
  },
  {
   "cell_type": "markdown",
   "id": "932164ad-5f6a-4dc2-a140-0e6482fc4e2e",
   "metadata": {},
   "source": [
    "Once you have converted these cells, we'll give an overview of the `project-1.py` template."
   ]
  },
  {
   "cell_type": "markdown",
   "id": "6ebd9010-54cb-4771-b36b-1f0859b92371",
   "metadata": {},
   "source": [
    "# Finish evaluating the workflow in signac-flow"
   ]
  },
  {
   "cell_type": "markdown",
   "id": "c5764360-2acd-49cc-a3f6-cb7d56b299d8",
   "metadata": {},
   "source": [
    "Check status of the project.\n",
    "\n",
    "- Note that 20/25 jobs have satisfied the `simulated` label\n",
    "    - Those 5 eligible `simulate` operations show up in the list\n",
    "- \n"
   ]
  },
  {
   "cell_type": "code",
   "execution_count": null,
   "id": "2f7052a4-59b9-43d0-a97f-c6e044a110c1",
   "metadata": {},
   "outputs": [],
   "source": [
    "!python project-1.py status"
   ]
  },
  {
   "cell_type": "code",
   "execution_count": null,
   "id": "f4fb22a8-7b8b-4d50-a4a1-9d1f56088751",
   "metadata": {},
   "outputs": [],
   "source": [
    "!python project-1.py run -o simulate -n 2\n"
   ]
  },
  {
   "cell_type": "code",
   "execution_count": null,
   "id": "0aa2592c-f6e6-470a-9cd3-d7dde06181b1",
   "metadata": {},
   "outputs": [],
   "source": [
    "!python project-1.py status"
   ]
  },
  {
   "cell_type": "code",
   "execution_count": null,
   "id": "39d0280c-1f9f-4b87-9c79-9e7ea87ce403",
   "metadata": {},
   "outputs": [],
   "source": [
    "!python project-1.py run -o compute_squared_displacement"
   ]
  },
  {
   "cell_type": "code",
   "execution_count": null,
   "id": "780b2d66-f557-4a79-b072-372d989d135c",
   "metadata": {},
   "outputs": [],
   "source": [
    "!python project-1.py status"
   ]
  },
  {
   "cell_type": "markdown",
   "id": "f6241bbf-bbf7-48ac-804f-59b58d68588f",
   "metadata": {},
   "source": [
    "Using the command line interface to run and check status, compute the rest of the workflow."
   ]
  },
  {
   "cell_type": "code",
   "execution_count": null,
   "id": "6ef2bf71-6dc9-4dee-bc12-2de38583d619",
   "metadata": {},
   "outputs": [],
   "source": [
    "!python project-1.py run"
   ]
  },
  {
   "cell_type": "markdown",
   "id": "fa251222-a67f-4bfb-a3cf-e72d87a9c9f2",
   "metadata": {},
   "source": [
    "Oops! We haven't defined the run_steps for all our jobs!"
   ]
  },
  {
   "cell_type": "code",
   "execution_count": null,
   "id": "276b1798-3f1d-4db0-ae4a-5e0a4a88038c",
   "metadata": {},
   "outputs": [],
   "source": [
    "for job in project:\n",
    "    job.doc.run_steps = 5000"
   ]
  },
  {
   "cell_type": "code",
   "execution_count": null,
   "id": "6b815a96-1a35-4faa-9934-5d9fd36a08f0",
   "metadata": {},
   "outputs": [],
   "source": []
  }
 ],
 "metadata": {
  "kernelspec": {
   "display_name": "Python 3 (ipykernel)",
   "language": "python",
   "name": "python3"
  },
  "language_info": {
   "codemirror_mode": {
    "name": "ipython",
    "version": 3
   },
   "file_extension": ".py",
   "mimetype": "text/x-python",
   "name": "python",
   "nbconvert_exporter": "python",
   "pygments_lexer": "ipython3",
   "version": "3.10.9"
  }
 },
 "nbformat": 4,
 "nbformat_minor": 5
}
