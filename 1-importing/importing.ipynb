{
 "cells": [
  {
   "cell_type": "markdown",
   "id": "c6d1348b-b5d2-4dbf-807b-f4e1158bab87",
   "metadata": {},
   "source": [
    "# Converting project to use signac"
   ]
  },
  {
   "cell_type": "markdown",
   "id": "4aba6c44-3720-482d-b736-e780433ed38d",
   "metadata": {},
   "source": [
    "This tutorial will demonstrate how to turn an existing project into a project tracked by signac, assuming the project uses nested directories to organize the data.\n"
   ]
  },
  {
   "cell_type": "markdown",
   "id": "002e1ac1-839e-4871-9975-6014e78f274c",
   "metadata": {},
   "source": [
    "First, create a signac project to import into"
   ]
  },
  {
   "cell_type": "code",
   "execution_count": null,
   "id": "83573809-e7b0-40fb-b6d4-54339dda5edd",
   "metadata": {},
   "outputs": [],
   "source": [
    "!signac init"
   ]
  },
  {
   "cell_type": "markdown",
   "id": "7117ebb8-4c4c-4c3c-b895-612f8f747c51",
   "metadata": {},
   "source": [
    "We will use the `signac import` command"
   ]
  },
  {
   "cell_type": "code",
   "execution_count": null,
   "id": "c30346d9-3e52-41fd-86e4-7d033e2a3a10",
   "metadata": {},
   "outputs": [],
   "source": [
    "!signac import --help"
   ]
  },
  {
   "cell_type": "markdown",
   "id": "e7380805-b34a-48df-957f-3d3885739942",
   "metadata": {},
   "source": [
    "What is the schema of the directory layout?"
   ]
  },
  {
   "cell_type": "markdown",
   "id": "0ac2989c-d010-419c-8d07-48ca1662fadc",
   "metadata": {},
   "source": [
    "Let's import this project into signac by writing the appropriate schema_path for the `import` command"
   ]
  },
  {
   "cell_type": "code",
   "execution_count": null,
   "id": "dfa16eb1-42ba-47c1-b0a8-aedf37cb0fc4",
   "metadata": {},
   "outputs": [],
   "source": [
    "!signac import to_import 'mean/{mean:int}/standard_deviation/{standard_deviation:float}/replica_{replica:int}_seed_{seed:int}'\n"
   ]
  },
  {
   "cell_type": "markdown",
   "id": "1ca9839f-fd6e-404d-a587-8f82716c3ede",
   "metadata": {},
   "source": [
    "## Converting code to use signac\n",
    "- Get parameters from signac state point (job.sp)\n",
    "- Replace cases of os.path.join(path, ...) with job.fn(...)\n",
    "- "
   ]
  },
  {
   "cell_type": "code",
   "execution_count": null,
   "id": "c11fb958-43f3-477c-ad07-9c7912e39f88",
   "metadata": {},
   "outputs": [],
   "source": [
    "import signac"
   ]
  },
  {
   "cell_type": "markdown",
   "id": "c52dc3f2-3f82-43e0-ae75-4ef7eca5259d",
   "metadata": {},
   "source": [
    "Find a signac_statepoint.json file and confirm that the import was correct."
   ]
  },
  {
   "cell_type": "code",
   "execution_count": null,
   "id": "3ecb486f-05e0-4cb5-a4ad-1502f7d69101",
   "metadata": {},
   "outputs": [],
   "source": [
    "project = signac.get_project()"
   ]
  },
  {
   "cell_type": "markdown",
   "id": "6ebd9010-54cb-4771-b36b-1f0859b92371",
   "metadata": {},
   "source": [
    "# Finish evaluating the workflow in signac-flow"
   ]
  },
  {
   "cell_type": "markdown",
   "id": "c5764360-2acd-49cc-a3f6-cb7d56b299d8",
   "metadata": {},
   "source": [
    "Check status of the project.\n",
    "\n",
    "- Note that 20/25 jobs have satisfied the `simulated` label\n",
    "    - Those 5 eligible `simulate` operations show up in the list\n",
    "- \n"
   ]
  },
  {
   "cell_type": "code",
   "execution_count": null,
   "id": "246c379d-cd62-48fe-83f9-c9ee016c23e4",
   "metadata": {},
   "outputs": [],
   "source": []
  },
  {
   "cell_type": "code",
   "execution_count": null,
   "id": "2f7052a4-59b9-43d0-a97f-c6e044a110c1",
   "metadata": {},
   "outputs": [],
   "source": [
    "!python project-1.py status"
   ]
  },
  {
   "cell_type": "code",
   "execution_count": null,
   "id": "0aa2592c-f6e6-470a-9cd3-d7dde06181b1",
   "metadata": {},
   "outputs": [],
   "source": [
    "!python project-1.py status -d"
   ]
  },
  {
   "cell_type": "code",
   "execution_count": null,
   "id": "39d0280c-1f9f-4b87-9c79-9e7ea87ce403",
   "metadata": {},
   "outputs": [],
   "source": []
  }
 ],
 "metadata": {
  "kernelspec": {
   "display_name": "Python 3 (ipykernel)",
   "language": "python",
   "name": "python3"
  },
  "language_info": {
   "codemirror_mode": {
    "name": "ipython",
    "version": 3
   },
   "file_extension": ".py",
   "mimetype": "text/x-python",
   "name": "python",
   "nbconvert_exporter": "python",
   "pygments_lexer": "ipython3",
   "version": "3.10.9"
  }
 },
 "nbformat": 4,
 "nbformat_minor": 5
}
