{
 "cells": [
  {
   "cell_type": "code",
   "execution_count": null,
   "id": "edd0f2eb-d570-4284-8a18-4f76d1fc7fd1",
   "metadata": {},
   "outputs": [],
   "source": [
    "import os\n",
    "import numpy as np\n",
    "import h5py\n",
    "import matplotlib.pyplot as plt\n",
    "from IPython.display import Image"
   ]
  },
  {
   "cell_type": "markdown",
   "id": "971d85c3-8dcc-40fe-a053-84423452df37",
   "metadata": {},
   "source": [
    "# Workflow for each state point"
   ]
  },
  {
   "cell_type": "markdown",
   "id": "e7d6099d-f58c-4f6d-8846-3a075a34f854",
   "metadata": {},
   "source": [
    "This file mimics the process for manually managing a computational workflow in a nested directory structure stored in `random_walk_project`.\n",
    "\n",
    "Each heading in this notebook is roughly one step (\"operation\"). \n",
    "\n",
    "simulate --> compute_squared_displacements --> compute_mean_squared_displacement --> plot_msd"
   ]
  },
  {
   "cell_type": "markdown",
   "id": "4b961f67-9e42-49ce-a39a-f0846d96b1ed",
   "metadata": {},
   "source": [
    "## Set parameters for this run\n"
   ]
  },
  {
   "cell_type": "code",
   "execution_count": null,
   "id": "52b13a50-2da6-48c4-b122-9b0725aff650",
   "metadata": {
    "editable": true,
    "slideshow": {
     "slide_type": ""
    },
    "tags": []
   },
   "outputs": [],
   "source": [
    "run_steps = 5000\n",
    "\n",
    "mean = 0\n",
    "standard_deviation = 0.775\n",
    "replica = 0\n",
    "seed = 221141651\n",
    "\n",
    "# get file path\n",
    "path = os.path.join(\"random_walk_project\",\n",
    "                     \"standard_deviation\", str(standard_deviation),\n",
    "                     f\"replica_{replica}_seed_{seed}\"\n",
    "                    )\n"
   ]
  },
  {
   "cell_type": "markdown",
   "id": "c750bc34-92c0-4498-b521-5eddece35f26",
   "metadata": {},
   "source": [
    "## Run simulation"
   ]
  },
  {
   "cell_type": "code",
   "execution_count": null,
   "id": "9ea82ba2-ff92-4249-be1f-3d399d34b821",
   "metadata": {},
   "outputs": [],
   "source": [
    "generator = np.random.default_rng(seed)\n",
    "\n",
    "# Generate all moves at once since they are independent\n",
    "moves = generator.normal(mean, standard_deviation, (run_steps, 2))\n",
    "positions = np.zeros((run_steps + 1, 2), dtype=float)\n",
    "\n",
    "# Store the results: perform a cumulative sum of all moves starting from the origin\n",
    "positions[1:] = np.cumsum(moves, axis=0)\n",
    "\n",
    "with h5py.File(os.path.join(path, \"signac_data.h5\"), 'w') as hf:\n",
    "    hf.create_dataset(\"positions\", data=positions, dtype='f')"
   ]
  },
  {
   "cell_type": "markdown",
   "id": "c1f6cb92-2213-4cc3-95f0-b76c4d7b541f",
   "metadata": {},
   "source": [
    "## Compute squared displacements"
   ]
  },
  {
   "cell_type": "code",
   "execution_count": null,
   "id": "22e831e9-fc63-485f-8684-60e082de5292",
   "metadata": {},
   "outputs": [],
   "source": [
    "squared_displacement = np.sum(positions * positions, axis=1)\n",
    "\n",
    "with h5py.File(os.path.join(path, \"signac_data.h5\"), 'w') as hf:\n",
    "    hf.create_dataset(\"squared_displacement\", data=squared_displacement, dtype='f')\n"
   ]
  },
  {
   "cell_type": "markdown",
   "id": "d4a8eabb-9de0-47ba-ac86-cae48a7983ea",
   "metadata": {},
   "source": [
    "## Compute MSD"
   ]
  },
  {
   "cell_type": "code",
   "execution_count": null,
   "id": "93bb0645-f5cb-4c5b-bf6c-d0ebfad59df5",
   "metadata": {},
   "outputs": [],
   "source": [
    "# pull data from replicates\n",
    "root = os.path.dirname(path)\n",
    "replica_labels = [f for f in os.listdir(root) if not f.startswith('.')]\n",
    "replica_labels = sorted(replica_labels)\n",
    "print(replica_labels)\n",
    "\n",
    "# compute msd\n",
    "msd = np.zeros(run_steps + 1, dtype='float64')\n",
    "for rep in replica_labels:\n",
    "    rep_hf = h5py.File(os.path.join(root, rep, \"signac_data.h5\"), 'r')\n",
    "    msd += rep_hf.get(\"squared_displacement\")\n",
    "    rep_hf.close()\n",
    "msd /= len(replica_labels)\n",
    "\n",
    "\n",
    "with h5py.File(os.path.join(path, \"signac_data.h5\"), 'w') as hf:\n",
    "    hf.create_dataset(\"msd\", data=msd, dtype='f')\n"
   ]
  },
  {
   "cell_type": "markdown",
   "id": "1daded53-ee57-4710-8530-5f9714bb3fbe",
   "metadata": {},
   "source": [
    "## Plot MSD"
   ]
  },
  {
   "cell_type": "code",
   "execution_count": null,
   "id": "42a99a37-2cfc-43e0-bf96-1f851d69f8b7",
   "metadata": {},
   "outputs": [],
   "source": [
    "fig, ax = plt.subplots()\n",
    "ax.plot(msd)\n",
    "ax.set_title(f\"MSD for standard deviation {standard_deviation}\")\n",
    "ax.set_xlabel(\"x\")\n",
    "ax.set_ylabel(\"MSD\")\n",
    "# Only save figure to the first replica\n",
    "fig.savefig(os.path.join(path,\"msd.png\"))\n",
    "plt.close()\n",
    "Image(os.path.join(path,\"msd.png\"))"
   ]
  },
  {
   "cell_type": "markdown",
   "id": "d3f0629b-f53f-4752-80aa-f4e9b8c049a6",
   "metadata": {},
   "source": [
    "extras\n",
    "- Compute radius of gyration\n",
    "- compute end to end distance\n",
    "- plot histogram"
   ]
  }
 ],
 "metadata": {
  "kernelspec": {
   "display_name": "Python 3 (ipykernel)",
   "language": "python",
   "name": "python3"
  },
  "language_info": {
   "codemirror_mode": {
    "name": "ipython",
    "version": 3
   },
   "file_extension": ".py",
   "mimetype": "text/x-python",
   "name": "python",
   "nbconvert_exporter": "python",
   "pygments_lexer": "ipython3",
   "version": "3.10.9"
  }
 },
 "nbformat": 4,
 "nbformat_minor": 5
}
