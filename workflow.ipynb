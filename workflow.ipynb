{
 "cells": [
  {
   "cell_type": "markdown",
   "id": "971d85c3-8dcc-40fe-a053-84423452df37",
   "metadata": {},
   "source": [
    "# Workflow for each state point"
   ]
  },
  {
   "cell_type": "code",
   "execution_count": 1,
   "id": "edd0f2eb-d570-4284-8a18-4f76d1fc7fd1",
   "metadata": {},
   "outputs": [],
   "source": [
    "import os\n",
    "import numpy as np\n",
    "import h5py\n",
    "import matplotlib.pyplot as plt\n",
    "from IPython.display import Image"
   ]
  },
  {
   "cell_type": "markdown",
   "id": "2e525c76-b266-4a17-a6f8-3766150c1148",
   "metadata": {},
   "source": [
    "The workflow represented in this notebook has these steps:\n",
    "\n",
    "simulate --> compute_squared_displacements --> compute_mean_squared_displacement --> plot_msd --> write_data"
   ]
  },
  {
   "cell_type": "markdown",
   "id": "4b961f67-9e42-49ce-a39a-f0846d96b1ed",
   "metadata": {},
   "source": [
    "## Set parameters\n",
    "\n",
    "When running, you would have to loop over these parameters"
   ]
  },
  {
   "cell_type": "code",
   "execution_count": 2,
   "id": "52b13a50-2da6-48c4-b122-9b0725aff650",
   "metadata": {},
   "outputs": [],
   "source": [
    "run_steps = 5000\n",
    "\n",
    "mean = 0\n",
    "standard_deviation = 0.775\n",
    "replica = 0\n",
    "seed = 221141651\n",
    "\n",
    "# get file path\n",
    "path = os.path.join(\"to_import\",\n",
    "                     \"mean\", str(mean),\n",
    "                     \"standard_deviation\", str(standard_deviation),\n",
    "                     f\"replica_{replica}_seed_{seed}\"\n",
    "                    )\n"
   ]
  },
  {
   "cell_type": "markdown",
   "id": "c750bc34-92c0-4498-b521-5eddece35f26",
   "metadata": {},
   "source": [
    "## Run simulation"
   ]
  },
  {
   "cell_type": "code",
   "execution_count": 3,
   "id": "9ea82ba2-ff92-4249-be1f-3d399d34b821",
   "metadata": {},
   "outputs": [],
   "source": [
    "generator = np.random.default_rng(seed)\n",
    "\n",
    "# Generate all moves at once since they are independent\n",
    "moves = generator.normal(mean, standard_deviation, (run_steps, 2))\n",
    "positions = np.zeros((run_steps + 1, 2), dtype=float)\n",
    "\n",
    "# Store the results: perform a cumulative sum of all moves starting from the origin\n",
    "positions[1:] = np.cumsum(moves, axis=0)"
   ]
  },
  {
   "cell_type": "markdown",
   "id": "c1f6cb92-2213-4cc3-95f0-b76c4d7b541f",
   "metadata": {},
   "source": [
    "## Compute squared displacements"
   ]
  },
  {
   "cell_type": "code",
   "execution_count": 4,
   "id": "22e831e9-fc63-485f-8684-60e082de5292",
   "metadata": {},
   "outputs": [],
   "source": [
    "squared_displacement = np.sum(positions * positions, axis=1)"
   ]
  },
  {
   "cell_type": "markdown",
   "id": "a1369751-716a-4837-9712-8f8ed5cfa000",
   "metadata": {},
   "source": [
    "## Save data to file"
   ]
  },
  {
   "cell_type": "code",
   "execution_count": 15,
   "id": "f04168f0-e2fa-415b-9490-563ca24c4475",
   "metadata": {},
   "outputs": [
    {
     "ename": "OSError",
     "evalue": "Unable to synchronously create file (unable to truncate a file which is already open)",
     "output_type": "error",
     "traceback": [
      "\u001b[0;31m---------------------------------------------------------------------------\u001b[0m",
      "\u001b[0;31mOSError\u001b[0m                                   Traceback (most recent call last)",
      "Cell \u001b[0;32mIn[15], line 1\u001b[0m\n\u001b[0;32m----> 1\u001b[0m \u001b[38;5;28;01mwith\u001b[39;00m \u001b[43mh5py\u001b[49m\u001b[38;5;241;43m.\u001b[39;49m\u001b[43mFile\u001b[49m\u001b[43m(\u001b[49m\u001b[43mos\u001b[49m\u001b[38;5;241;43m.\u001b[39;49m\u001b[43mpath\u001b[49m\u001b[38;5;241;43m.\u001b[39;49m\u001b[43mjoin\u001b[49m\u001b[43m(\u001b[49m\u001b[43mpath\u001b[49m\u001b[43m,\u001b[49m\u001b[43m \u001b[49m\u001b[38;5;124;43m\"\u001b[39;49m\u001b[38;5;124;43msignac_data.h5\u001b[39;49m\u001b[38;5;124;43m\"\u001b[39;49m\u001b[43m)\u001b[49m\u001b[43m,\u001b[49m\u001b[43m \u001b[49m\u001b[38;5;124;43m'\u001b[39;49m\u001b[38;5;124;43mw\u001b[39;49m\u001b[38;5;124;43m'\u001b[39;49m\u001b[43m)\u001b[49m \u001b[38;5;28;01mas\u001b[39;00m hf:\n\u001b[1;32m      2\u001b[0m     hf\u001b[38;5;241m.\u001b[39mcreate_dataset(\u001b[38;5;124m\"\u001b[39m\u001b[38;5;124mpositions\u001b[39m\u001b[38;5;124m\"\u001b[39m, data\u001b[38;5;241m=\u001b[39mpositions)\n\u001b[1;32m      3\u001b[0m     hf\u001b[38;5;241m.\u001b[39mcreate_dataset(\u001b[38;5;124m\"\u001b[39m\u001b[38;5;124msquared_displacement\u001b[39m\u001b[38;5;124m\"\u001b[39m, data\u001b[38;5;241m=\u001b[39msquared_displacement)\n",
      "File \u001b[0;32m~/miniconda3/envs/py310/lib/python3.10/site-packages/h5py/_hl/files.py:567\u001b[0m, in \u001b[0;36mFile.__init__\u001b[0;34m(self, name, mode, driver, libver, userblock_size, swmr, rdcc_nslots, rdcc_nbytes, rdcc_w0, track_order, fs_strategy, fs_persist, fs_threshold, fs_page_size, page_buf_size, min_meta_keep, min_raw_keep, locking, alignment_threshold, alignment_interval, meta_block_size, **kwds)\u001b[0m\n\u001b[1;32m    558\u001b[0m     fapl \u001b[38;5;241m=\u001b[39m make_fapl(driver, libver, rdcc_nslots, rdcc_nbytes, rdcc_w0,\n\u001b[1;32m    559\u001b[0m                      locking, page_buf_size, min_meta_keep, min_raw_keep,\n\u001b[1;32m    560\u001b[0m                      alignment_threshold\u001b[38;5;241m=\u001b[39malignment_threshold,\n\u001b[1;32m    561\u001b[0m                      alignment_interval\u001b[38;5;241m=\u001b[39malignment_interval,\n\u001b[1;32m    562\u001b[0m                      meta_block_size\u001b[38;5;241m=\u001b[39mmeta_block_size,\n\u001b[1;32m    563\u001b[0m                      \u001b[38;5;241m*\u001b[39m\u001b[38;5;241m*\u001b[39mkwds)\n\u001b[1;32m    564\u001b[0m     fcpl \u001b[38;5;241m=\u001b[39m make_fcpl(track_order\u001b[38;5;241m=\u001b[39mtrack_order, fs_strategy\u001b[38;5;241m=\u001b[39mfs_strategy,\n\u001b[1;32m    565\u001b[0m                      fs_persist\u001b[38;5;241m=\u001b[39mfs_persist, fs_threshold\u001b[38;5;241m=\u001b[39mfs_threshold,\n\u001b[1;32m    566\u001b[0m                      fs_page_size\u001b[38;5;241m=\u001b[39mfs_page_size)\n\u001b[0;32m--> 567\u001b[0m     fid \u001b[38;5;241m=\u001b[39m \u001b[43mmake_fid\u001b[49m\u001b[43m(\u001b[49m\u001b[43mname\u001b[49m\u001b[43m,\u001b[49m\u001b[43m \u001b[49m\u001b[43mmode\u001b[49m\u001b[43m,\u001b[49m\u001b[43m \u001b[49m\u001b[43muserblock_size\u001b[49m\u001b[43m,\u001b[49m\u001b[43m \u001b[49m\u001b[43mfapl\u001b[49m\u001b[43m,\u001b[49m\u001b[43m \u001b[49m\u001b[43mfcpl\u001b[49m\u001b[43m,\u001b[49m\u001b[43m \u001b[49m\u001b[43mswmr\u001b[49m\u001b[38;5;241;43m=\u001b[39;49m\u001b[43mswmr\u001b[49m\u001b[43m)\u001b[49m\n\u001b[1;32m    569\u001b[0m \u001b[38;5;28;01mif\u001b[39;00m \u001b[38;5;28misinstance\u001b[39m(libver, \u001b[38;5;28mtuple\u001b[39m):\n\u001b[1;32m    570\u001b[0m     \u001b[38;5;28mself\u001b[39m\u001b[38;5;241m.\u001b[39m_libver \u001b[38;5;241m=\u001b[39m libver\n",
      "File \u001b[0;32m~/miniconda3/envs/py310/lib/python3.10/site-packages/h5py/_hl/files.py:237\u001b[0m, in \u001b[0;36mmake_fid\u001b[0;34m(name, mode, userblock_size, fapl, fcpl, swmr)\u001b[0m\n\u001b[1;32m    235\u001b[0m     fid \u001b[38;5;241m=\u001b[39m h5f\u001b[38;5;241m.\u001b[39mcreate(name, h5f\u001b[38;5;241m.\u001b[39mACC_EXCL, fapl\u001b[38;5;241m=\u001b[39mfapl, fcpl\u001b[38;5;241m=\u001b[39mfcpl)\n\u001b[1;32m    236\u001b[0m \u001b[38;5;28;01melif\u001b[39;00m mode \u001b[38;5;241m==\u001b[39m \u001b[38;5;124m'\u001b[39m\u001b[38;5;124mw\u001b[39m\u001b[38;5;124m'\u001b[39m:\n\u001b[0;32m--> 237\u001b[0m     fid \u001b[38;5;241m=\u001b[39m \u001b[43mh5f\u001b[49m\u001b[38;5;241;43m.\u001b[39;49m\u001b[43mcreate\u001b[49m\u001b[43m(\u001b[49m\u001b[43mname\u001b[49m\u001b[43m,\u001b[49m\u001b[43m \u001b[49m\u001b[43mh5f\u001b[49m\u001b[38;5;241;43m.\u001b[39;49m\u001b[43mACC_TRUNC\u001b[49m\u001b[43m,\u001b[49m\u001b[43m \u001b[49m\u001b[43mfapl\u001b[49m\u001b[38;5;241;43m=\u001b[39;49m\u001b[43mfapl\u001b[49m\u001b[43m,\u001b[49m\u001b[43m \u001b[49m\u001b[43mfcpl\u001b[49m\u001b[38;5;241;43m=\u001b[39;49m\u001b[43mfcpl\u001b[49m\u001b[43m)\u001b[49m\n\u001b[1;32m    238\u001b[0m \u001b[38;5;28;01melif\u001b[39;00m mode \u001b[38;5;241m==\u001b[39m \u001b[38;5;124m'\u001b[39m\u001b[38;5;124ma\u001b[39m\u001b[38;5;124m'\u001b[39m:\n\u001b[1;32m    239\u001b[0m     \u001b[38;5;66;03m# Open in append mode (read/write).\u001b[39;00m\n\u001b[1;32m    240\u001b[0m     \u001b[38;5;66;03m# If that fails, create a new file only if it won't clobber an\u001b[39;00m\n\u001b[1;32m    241\u001b[0m     \u001b[38;5;66;03m# existing one (ACC_EXCL)\u001b[39;00m\n\u001b[1;32m    242\u001b[0m     \u001b[38;5;28;01mtry\u001b[39;00m:\n",
      "File \u001b[0;32mh5py/_objects.pyx:54\u001b[0m, in \u001b[0;36mh5py._objects.with_phil.wrapper\u001b[0;34m()\u001b[0m\n",
      "File \u001b[0;32mh5py/_objects.pyx:55\u001b[0m, in \u001b[0;36mh5py._objects.with_phil.wrapper\u001b[0;34m()\u001b[0m\n",
      "File \u001b[0;32mh5py/h5f.pyx:126\u001b[0m, in \u001b[0;36mh5py.h5f.create\u001b[0;34m()\u001b[0m\n",
      "\u001b[0;31mOSError\u001b[0m: Unable to synchronously create file (unable to truncate a file which is already open)"
     ]
    }
   ],
   "source": [
    "with h5py.File(os.path.join(path, \"signac_data.h5\"), 'w') as hf:\n",
    "    hf.create_dataset(\"positions\", data=positions)\n",
    "    hf.create_dataset(\"squared_displacement\", data=squared_displacement)\n",
    "\n",
    "\n",
    "# in signac\n",
    "#job.data[\"positions\"] = positions"
   ]
  },
  {
   "cell_type": "markdown",
   "id": "d4a8eabb-9de0-47ba-ac86-cae48a7983ea",
   "metadata": {},
   "source": [
    "## Compute MSD"
   ]
  },
  {
   "cell_type": "code",
   "execution_count": 6,
   "id": "93bb0645-f5cb-4c5b-bf6c-d0ebfad59df5",
   "metadata": {},
   "outputs": [
    {
     "name": "stdout",
     "output_type": "stream",
     "text": [
      "['replica_0_seed_221141651', 'replica_1_seed_4222977269', 'replica_2_seed_2715845377', 'replica_3_seed_420064921', 'replica_4_seed_3582508559']\n"
     ]
    }
   ],
   "source": [
    "# pull data from replicates\n",
    "root = os.path.dirname(path)\n",
    "replica_labels = [f for f in os.listdir(root) if not f.startswith('.')]\n",
    "replica_labels = sorted(replica_labels)\n",
    "print(replica_labels)\n",
    "\n",
    "# compute msd\n",
    "msd = np.zeros(run_steps + 1, dtype='float64')\n",
    "for rep in replica_labels:\n",
    "    rep_hf = h5py.File(os.path.join(root, rep, \"signac_data.h5\"), 'r')\n",
    "    msd += rep_hf.get(\"squared_displacement\")\n",
    "    rep_hf.close()\n",
    "msd /= len(replica_labels)\n",
    "\n",
    "\n",
    "with h5py.File(os.path.join(path, \"signac_data.h5\"), 'w') as hf:\n",
    "    hf.create_dataset(\"msd\", data=msd)\n"
   ]
  },
  {
   "cell_type": "markdown",
   "id": "1daded53-ee57-4710-8530-5f9714bb3fbe",
   "metadata": {},
   "source": [
    "## Plot MSD"
   ]
  },
  {
   "cell_type": "code",
   "execution_count": 7,
   "id": "42a99a37-2cfc-43e0-bf96-1f851d69f8b7",
   "metadata": {},
   "outputs": [
    {
     "data": {
      "image/png": "[encoded data removed]",
      "text/plain": [
       "<IPython.core.display.Image object>"
      ]
     },
     "execution_count": 7,
     "metadata": {},
     "output_type": "execute_result"
    }
   ],
   "source": [
    "fig, ax = plt.subplots()\n",
    "ax.plot(msd)\n",
    "ax.set_title(f\"MSD for standard deviation {standard_deviation}\")\n",
    "ax.set_xlabel(\"x\")\n",
    "ax.set_ylabel(\"MSD\")\n",
    "# Only save figure to the first replica\n",
    "fig.savefig(os.path.join(path,\"msd.png\"))\n",
    "plt.close()\n",
    "Image(os.path.join(path,\"msd.png\"))"
   ]
  },
  {
   "cell_type": "code",
   "execution_count": null,
   "id": "be641643-b6da-42af-a634-f2776ba4c601",
   "metadata": {},
   "outputs": [],
   "source": []
  },
  {
   "cell_type": "code",
   "execution_count": null,
   "id": "7dc7ee4a-a5c9-4de9-a50f-edf724650e85",
   "metadata": {},
   "outputs": [],
   "source": []
  },
  {
   "cell_type": "code",
   "execution_count": 8,
   "id": "8d62ca0e-f16a-4822-a0c1-07b2368678bf",
   "metadata": {},
   "outputs": [],
   "source": [
    "# Example of reading signac's file"
   ]
  },
  {
   "cell_type": "code",
   "execution_count": 13,
   "id": "a42dc3cc-5c58-4e6f-a30a-047d42bbe414",
   "metadata": {},
   "outputs": [],
   "source": [
    "hf_signac = h5py.File(os.path.join(path, \"signac_data.h5\"), 'r')"
   ]
  },
  {
   "cell_type": "code",
   "execution_count": 14,
   "id": "c99f9e83-e883-4321-bd04-27c7fbf86466",
   "metadata": {},
   "outputs": [],
   "source": [
    "hf_signac.get('positions')"
   ]
  },
  {
   "cell_type": "code",
   "execution_count": 11,
   "id": "264b7955-51f8-4237-aa85-6099989e8991",
   "metadata": {},
   "outputs": [
    {
     "data": {
      "text/plain": [
       "<KeysViewHDF5 ['msd']>"
      ]
     },
     "execution_count": 11,
     "metadata": {},
     "output_type": "execute_result"
    }
   ],
   "source": [
    "hf_signac.keys()"
   ]
  },
  {
   "cell_type": "code",
   "execution_count": 12,
   "id": "a6ba826a-9c6c-4d27-a252-f20ee4591d0a",
   "metadata": {},
   "outputs": [],
   "source": [
    "hf_signac.close()"
   ]
  },
  {
   "cell_type": "code",
   "execution_count": null,
   "id": "5d41d442-0385-41eb-a4c6-c3617678f659",
   "metadata": {},
   "outputs": [],
   "source": []
  },
  {
   "cell_type": "code",
   "execution_count": null,
   "id": "4bce81d3-786f-4e6c-a9bd-55947365e075",
   "metadata": {},
   "outputs": [],
   "source": []
  },
  {
   "cell_type": "markdown",
   "id": "d3f0629b-f53f-4752-80aa-f4e9b8c049a6",
   "metadata": {},
   "source": [
    "extras\n",
    "- Compute radius of gyration\n",
    "- compute end to end distance\n",
    "- plot histogram"
   ]
  }
 ],
 "metadata": {
  "kernelspec": {
   "display_name": "Python 3 (ipykernel)",
   "language": "python",
   "name": "python3"
  },
  "language_info": {
   "codemirror_mode": {
    "name": "ipython",
    "version": 3
   },
   "file_extension": ".py",
   "mimetype": "text/x-python",
   "name": "python",
   "nbconvert_exporter": "python",
   "pygments_lexer": "ipython3",
   "version": "3.10.9"
  }
 },
 "nbformat": 4,
 "nbformat_minor": 5
}
